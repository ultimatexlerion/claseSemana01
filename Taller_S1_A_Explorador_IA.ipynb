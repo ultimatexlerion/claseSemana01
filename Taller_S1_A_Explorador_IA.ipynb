{
  "cells": [
    {
      "cell_type": "markdown",
      "metadata": {
        "id": "view-in-github",
        "colab_type": "text"
      },
      "source": [
        "<a href=\"https://colab.research.google.com/github/ultimatexlerion/claseSemana01/blob/main/Taller_S1_A_Explorador_IA.ipynb\" target=\"_parent\"><img src=\"https://colab.research.google.com/assets/colab-badge.svg\" alt=\"Open In Colab\"/></a>"
      ]
    },
    {
      "cell_type": "markdown",
      "source": [
        "https://app.genially.com/editor/66be773916efe652f5b55292"
      ],
      "metadata": {
        "id": "-frnn6XJRD7L"
      },
      "id": "-frnn6XJRD7L"
    },
    {
      "cell_type": "markdown",
      "id": "107f48ee-52a0-4c31-8616-62f0c6d08c44",
      "metadata": {
        "id": "107f48ee-52a0-4c31-8616-62f0c6d08c44"
      },
      "source": [
        "#Introducción a la Programación con Python"
      ]
    },
    {
      "cell_type": "markdown",
      "id": "b4b3f36d-d890-4bbf-9a7d-d3b41fac5f28",
      "metadata": {
        "id": "b4b3f36d-d890-4bbf-9a7d-d3b41fac5f28"
      },
      "source": [
        "- Operadores Aritméticos"
      ]
    },
    {
      "cell_type": "markdown",
      "id": "c4ef828e-4186-407b-ad79-ba97eed7c741",
      "metadata": {
        "id": "c4ef828e-4186-407b-ad79-ba97eed7c741"
      },
      "source": [
        "#- Variables y asignaciones"
      ]
    },
    {
      "cell_type": "markdown",
      "id": "ea41ab63-e16c-49b9-83c6-d596c6d5bf1f",
      "metadata": {
        "id": "ea41ab63-e16c-49b9-83c6-d596c6d5bf1f"
      },
      "source": [
        "Ya has usado iPython de calculadora con expresiones como sumas"
      ]
    },
    {
      "cell_type": "markdown",
      "id": "67de4824-f60b-42ad-94c0-88ef30c200f7",
      "metadata": {
        "id": "67de4824-f60b-42ad-94c0-88ef30c200f7"
      },
      "source": [
        "Creemos una variable w que valga 39"
      ]
    },
    {
      "cell_type": "code",
      "execution_count": 1,
      "id": "8bc4f8d0-21dc-49ab-9dcc-3f3cff6dcad1",
      "metadata": {
        "id": "8bc4f8d0-21dc-49ab-9dcc-3f3cff6dcad1"
      },
      "outputs": [],
      "source": [
        "#Espacio para Solucionar\n",
        "\n",
        "w = 39"
      ]
    },
    {
      "cell_type": "markdown",
      "id": "a8787aa5-1a17-4584-895a-af65cc8caccc",
      "metadata": {
        "id": "a8787aa5-1a17-4584-895a-af65cc8caccc"
      },
      "source": [
        " Python reconoce a la variable w como un entero."
      ]
    },
    {
      "cell_type": "code",
      "execution_count": null,
      "id": "afe037f0-de37-41e2-953d-d844e0a80fda",
      "metadata": {
        "id": "afe037f0-de37-41e2-953d-d844e0a80fda"
      },
      "outputs": [],
      "source": [
        "#Espacio para Solucionar"
      ]
    },
    {
      "cell_type": "code",
      "execution_count": 3,
      "id": "3c6d97c5-83ab-4e21-9ac7-19af7773bd28",
      "metadata": {
        "id": "3c6d97c5-83ab-4e21-9ac7-19af7773bd28",
        "colab": {
          "base_uri": "https://localhost:8080/"
        },
        "outputId": "bf033474-a715-4236-9a15-2dbcdf74f6c0"
      },
      "outputs": [
        {
          "output_type": "execute_result",
          "data": {
            "text/plain": [
              "int"
            ]
          },
          "metadata": {},
          "execution_count": 3
        }
      ],
      "source": [
        "type(w)"
      ]
    },
    {
      "cell_type": "markdown",
      "id": "005e7373-42db-4a0d-adfd-9bbce8142a24",
      "metadata": {
        "id": "005e7373-42db-4a0d-adfd-9bbce8142a24"
      },
      "source": [
        "#### Por tu cuenta\n",
        "\n",
        "Calcula la suma de 10.8, 12.2 y 0.2, guardala en una variable llamada b, y muestra la variable"
      ]
    },
    {
      "cell_type": "code",
      "execution_count": 4,
      "id": "b311d94d-52f6-4118-a6aa-76bea95587ab",
      "metadata": {
        "id": "b311d94d-52f6-4118-a6aa-76bea95587ab"
      },
      "outputs": [],
      "source": [
        "#Espacio para Solucionar"
      ]
    },
    {
      "cell_type": "code",
      "source": [
        "a=10.8\n",
        "c=12.2\n",
        "e=0.2\n",
        "d=a+c+e\n",
        "print(d)"
      ],
      "metadata": {
        "colab": {
          "base_uri": "https://localhost:8080/"
        },
        "id": "KsAY5saJYbtO",
        "outputId": "5d9c2b00-17dc-4f18-b168-a0adec4df6af"
      },
      "id": "KsAY5saJYbtO",
      "execution_count": 11,
      "outputs": [
        {
          "output_type": "stream",
          "name": "stdout",
          "text": [
            "23.2\n"
          ]
        }
      ]
    },
    {
      "cell_type": "code",
      "source": [],
      "metadata": {
        "colab": {
          "base_uri": "https://localhost:8080/"
        },
        "id": "sAbUFcFWYpF2",
        "outputId": "b4088ca9-1fc7-44c2-bf83-8d578743d7c0"
      },
      "id": "sAbUFcFWYpF2",
      "execution_count": 9,
      "outputs": [
        {
          "output_type": "stream",
          "name": "stdout",
          "text": [
            "35.2\n"
          ]
        }
      ]
    },
    {
      "cell_type": "markdown",
      "id": "9465c9ba-b34b-429a-8881-36d24df64a7e",
      "metadata": {
        "id": "9465c9ba-b34b-429a-8881-36d24df64a7e"
      },
      "source": [
        "- Aritmetica"
      ]
    },
    {
      "cell_type": "markdown",
      "id": "7b42b218-4742-47d9-b736-e98261be0587",
      "metadata": {
        "id": "7b42b218-4742-47d9-b736-e98261be0587"
      },
      "source": [
        "##### Multiplicación\n",
        "\n",
        "Realiza un 7 * 4"
      ]
    },
    {
      "cell_type": "code",
      "execution_count": 12,
      "id": "6b91ef2e-d2e0-4b02-8f26-0711925b0776",
      "metadata": {
        "id": "6b91ef2e-d2e0-4b02-8f26-0711925b0776"
      },
      "outputs": [],
      "source": [
        "#Espacio para Solucionar"
      ]
    },
    {
      "cell_type": "code",
      "source": [
        "mul= 7 * 4\n",
        "print(a)"
      ],
      "metadata": {
        "colab": {
          "base_uri": "https://localhost:8080/"
        },
        "id": "DBG_485LY663",
        "outputId": "c4a36d67-3e71-42f5-818f-22ebf0b19773"
      },
      "id": "DBG_485LY663",
      "execution_count": 14,
      "outputs": [
        {
          "output_type": "stream",
          "name": "stdout",
          "text": [
            "28\n"
          ]
        }
      ]
    },
    {
      "cell_type": "markdown",
      "id": "6d23d001-7a4c-4145-b914-2f82ed77037a",
      "metadata": {
        "id": "6d23d001-7a4c-4145-b914-2f82ed77037a"
      },
      "source": [
        "##### Exponenciación\n",
        "\n",
        "Realiza un 2 ** 4"
      ]
    },
    {
      "cell_type": "code",
      "execution_count": 15,
      "id": "9099f0a2-8c8a-43bb-89f7-1777ad5ffcad",
      "metadata": {
        "id": "9099f0a2-8c8a-43bb-89f7-1777ad5ffcad"
      },
      "outputs": [],
      "source": [
        "#Espacio para Solucionar"
      ]
    },
    {
      "cell_type": "code",
      "source": [
        "mul_2= 2 ** 4\n",
        "print(mul_2)"
      ],
      "metadata": {
        "colab": {
          "base_uri": "https://localhost:8080/"
        },
        "id": "c3MMgzF8ZFO8",
        "outputId": "504b9bf8-d146-4fc2-a561-0ee4072b3ae0"
      },
      "id": "c3MMgzF8ZFO8",
      "execution_count": 16,
      "outputs": [
        {
          "output_type": "stream",
          "name": "stdout",
          "text": [
            "16\n"
          ]
        }
      ]
    },
    {
      "cell_type": "markdown",
      "id": "7221d3fd-6edd-4646-960e-5234eb1224cb",
      "metadata": {
        "id": "7221d3fd-6edd-4646-960e-5234eb1224cb"
      },
      "source": [
        "##### División Verdadera\n",
        "\n",
        "Divide 8/5"
      ]
    },
    {
      "cell_type": "code",
      "execution_count": 17,
      "id": "956eaff7-044d-4321-9117-9c79838fdfe9",
      "metadata": {
        "id": "956eaff7-044d-4321-9117-9c79838fdfe9"
      },
      "outputs": [],
      "source": [
        "#Espacio para Solucionar"
      ]
    },
    {
      "cell_type": "code",
      "source": [
        "div= 8/5\n",
        "print(div)"
      ],
      "metadata": {
        "colab": {
          "base_uri": "https://localhost:8080/"
        },
        "id": "96VPvXg-ZNBo",
        "outputId": "830a4e62-5759-406a-85d9-99f44746aefe"
      },
      "id": "96VPvXg-ZNBo",
      "execution_count": 18,
      "outputs": [
        {
          "output_type": "stream",
          "name": "stdout",
          "text": [
            "1.6\n"
          ]
        }
      ]
    },
    {
      "cell_type": "markdown",
      "id": "acd82688-1da7-4d4b-8770-a2c8cf1a9959",
      "metadata": {
        "id": "acd82688-1da7-4d4b-8770-a2c8cf1a9959"
      },
      "source": [
        "##### División de piso\n",
        "\n",
        "Divide 20//6 - verás como te da un rsultado entero"
      ]
    },
    {
      "cell_type": "code",
      "execution_count": 19,
      "id": "5bdd55d8-2a08-49b5-80bd-98c741b5b3a1",
      "metadata": {
        "id": "5bdd55d8-2a08-49b5-80bd-98c741b5b3a1"
      },
      "outputs": [],
      "source": [
        "#Espacio para Solucionar"
      ]
    },
    {
      "cell_type": "code",
      "source": [
        "divi= 20//6\n",
        "print(divi)"
      ],
      "metadata": {
        "colab": {
          "base_uri": "https://localhost:8080/"
        },
        "id": "SJxB9wSGZRBb",
        "outputId": "cba4edfe-c6c0-45e1-e667-a9dbb1b3c460"
      },
      "id": "SJxB9wSGZRBb",
      "execution_count": 20,
      "outputs": [
        {
          "output_type": "stream",
          "name": "stdout",
          "text": [
            "3\n"
          ]
        }
      ]
    },
    {
      "cell_type": "markdown",
      "id": "7c5a2f8a-d79d-40f6-a019-ac2ad4e176b8",
      "metadata": {
        "id": "7c5a2f8a-d79d-40f6-a019-ac2ad4e176b8"
      },
      "source": [
        "##### Restante\n",
        "\n",
        "Ahora obten el restante de dividir 26 / 8 usando el operador %"
      ]
    },
    {
      "cell_type": "code",
      "execution_count": 21,
      "id": "06df6019-2880-42da-bc70-e8fe75b8085f",
      "metadata": {
        "id": "06df6019-2880-42da-bc70-e8fe75b8085f"
      },
      "outputs": [],
      "source": [
        "#Espacio para Solucionar"
      ]
    },
    {
      "cell_type": "code",
      "source": [
        "26%8"
      ],
      "metadata": {
        "colab": {
          "base_uri": "https://localhost:8080/"
        },
        "id": "sYuWqABXZXSe",
        "outputId": "8138206b-a2b2-44e4-9682-2c8ca8b07555"
      },
      "id": "sYuWqABXZXSe",
      "execution_count": 23,
      "outputs": [
        {
          "output_type": "execute_result",
          "data": {
            "text/plain": [
              "2"
            ]
          },
          "metadata": {},
          "execution_count": 23
        }
      ]
    },
    {
      "cell_type": "markdown",
      "id": "7b682671-bc7b-4e34-8fe8-7b9034a43bc9",
      "metadata": {
        "id": "7b682671-bc7b-4e34-8fe8-7b9034a43bc9"
      },
      "source": [
        "##### División de piso\n",
        "\n",
        "Divide 20//6 - verás como te da un resultado entero"
      ]
    },
    {
      "cell_type": "code",
      "execution_count": 24,
      "id": "e74bf267-cecf-4e6c-99ff-8e40b2aac32a",
      "metadata": {
        "id": "e74bf267-cecf-4e6c-99ff-8e40b2aac32a",
        "colab": {
          "base_uri": "https://localhost:8080/"
        },
        "outputId": "5e9294ff-d896-4ae2-a67a-8066f708550e"
      },
      "outputs": [
        {
          "output_type": "execute_result",
          "data": {
            "text/plain": [
              "3"
            ]
          },
          "metadata": {},
          "execution_count": 24
        }
      ],
      "source": [
        "#Espacio para Solucionar\n",
        "20//6"
      ]
    },
    {
      "cell_type": "code",
      "source": [],
      "metadata": {
        "id": "WeXRDTN4AXen"
      },
      "id": "WeXRDTN4AXen",
      "execution_count": null,
      "outputs": []
    },
    {
      "cell_type": "markdown",
      "id": "3259cdcb-13a8-40c6-99fa-bd6611dabc99",
      "metadata": {
        "id": "3259cdcb-13a8-40c6-99fa-bd6611dabc99"
      },
      "source": [
        "##### Agrupación con parentesis\n",
        "\n",
        "Revisa que python respeta la jerarquia de operaciones"
      ]
    },
    {
      "cell_type": "code",
      "execution_count": null,
      "id": "15f252d5-a478-49d9-b98e-01630d77d227",
      "metadata": {
        "id": "15f252d5-a478-49d9-b98e-01630d77d227"
      },
      "outputs": [],
      "source": [
        "#Espacio para Solucionar"
      ]
    },
    {
      "cell_type": "markdown",
      "id": "f280f822-c9b1-4c44-91a3-c6a18ee83f2b",
      "metadata": {
        "id": "f280f822-c9b1-4c44-91a3-c6a18ee83f2b"
      },
      "source": [
        "#### Por tu cuenta\n",
        "\n",
        "Evalua la expresión 3*(4-5) con y sin parentesis. Son los paréntesis redundantes?"
      ]
    },
    {
      "cell_type": "code",
      "source": [
        "#Espacio para Solucionar\n",
        "3*4-5\n"
      ],
      "metadata": {
        "id": "ccygV8ptAlL8",
        "colab": {
          "base_uri": "https://localhost:8080/"
        },
        "outputId": "e00aa4f0-1aa4-4506-bb5c-b1bc0b04b24d"
      },
      "id": "ccygV8ptAlL8",
      "execution_count": 27,
      "outputs": [
        {
          "output_type": "execute_result",
          "data": {
            "text/plain": [
              "7"
            ]
          },
          "metadata": {},
          "execution_count": 27
        }
      ]
    },
    {
      "cell_type": "code",
      "source": [
        "3*(4-5)"
      ],
      "metadata": {
        "colab": {
          "base_uri": "https://localhost:8080/"
        },
        "id": "Cur6-vKSaJpI",
        "outputId": "9f438369-bf00-43c5-a90b-28a92deea8de"
      },
      "id": "Cur6-vKSaJpI",
      "execution_count": 28,
      "outputs": [
        {
          "output_type": "execute_result",
          "data": {
            "text/plain": [
              "-3"
            ]
          },
          "metadata": {},
          "execution_count": 28
        }
      ]
    },
    {
      "cell_type": "markdown",
      "id": "fcbe6ca4-24fd-4150-b7bb-f870814b662e",
      "metadata": {
        "id": "fcbe6ca4-24fd-4150-b7bb-f870814b662e"
      },
      "source": [
        "Función print, arreglos con comillas simples y dobles comillas"
      ]
    },
    {
      "cell_type": "markdown",
      "id": "d5b0476e-8651-4ade-acbe-5a03a0866865",
      "metadata": {
        "id": "d5b0476e-8651-4ade-acbe-5a03a0866865"
      },
      "source": [
        "La función Print"
      ]
    },
    {
      "cell_type": "markdown",
      "id": "18ca616b-3a2c-4184-8381-3a5e6a970e8d",
      "metadata": {
        "id": "18ca616b-3a2c-4184-8381-3a5e6a970e8d"
      },
      "source": [
        "ejecuta el siguiente snippet\n",
        "\n",
        "**print(“Hoy aprenderé a usar la función print”)**"
      ]
    },
    {
      "cell_type": "code",
      "execution_count": 30,
      "id": "058c39e6-75ad-4a4a-b97c-44dc1d4bd4cc",
      "metadata": {
        "id": "058c39e6-75ad-4a4a-b97c-44dc1d4bd4cc",
        "colab": {
          "base_uri": "https://localhost:8080/"
        },
        "outputId": "81d1ed08-46f3-45b2-d8fa-483bf0f18193"
      },
      "outputs": [
        {
          "output_type": "stream",
          "name": "stdout",
          "text": [
            "Hoy aprendere a utilizar la función print\n"
          ]
        }
      ],
      "source": [
        "#Espacio para Solucionar\n",
        "print(\"Hoy aprendere a utilizar la función print\")"
      ]
    },
    {
      "cell_type": "code",
      "execution_count": null,
      "id": "cd3ab393-c28b-4d4c-aac9-23ea0389ef07",
      "metadata": {
        "id": "cd3ab393-c28b-4d4c-aac9-23ea0389ef07"
      },
      "outputs": [],
      "source": [
        "#Espacio para Solucionar"
      ]
    },
    {
      "cell_type": "markdown",
      "id": "8269f4b5-ae18-416f-be14-a05d1da536e2",
      "metadata": {
        "id": "8269f4b5-ae18-416f-be14-a05d1da536e2"
      },
      "source": [
        "Ahora Ejecuta\n",
        "\n",
        "**Print(“Hoy aprenderé a usar la función print”)**"
      ]
    },
    {
      "cell_type": "code",
      "execution_count": null,
      "id": "8100353f-2679-469d-b979-46a710dac3a0",
      "metadata": {
        "id": "8100353f-2679-469d-b979-46a710dac3a0"
      },
      "outputs": [],
      "source": [
        "#Espacio para Solucionar"
      ]
    },
    {
      "cell_type": "markdown",
      "id": "63a86fc8-6aee-4501-8474-4b11c0cdd7e6",
      "metadata": {
        "id": "63a86fc8-6aee-4501-8474-4b11c0cdd7e6"
      },
      "source": [
        "Por ejemplo, para declarar el arreglo\n",
        "Hoy aprenderé a usar la función ‘print’"
      ]
    },
    {
      "cell_type": "markdown",
      "id": "36f2a965-9b25-4353-9af0-ae233e25fbe8",
      "metadata": {
        "id": "36f2a965-9b25-4353-9af0-ae233e25fbe8"
      },
      "source": [
        "**print(“Hoy aprenderé a usar la función ‘print’”)**"
      ]
    },
    {
      "cell_type": "code",
      "execution_count": 33,
      "id": "45a00297-3508-4bf3-aa5b-dff48ff9fe2d",
      "metadata": {
        "id": "45a00297-3508-4bf3-aa5b-dff48ff9fe2d",
        "colab": {
          "base_uri": "https://localhost:8080/"
        },
        "outputId": "9dc93469-6616-4551-8af0-599be9f60b8a"
      },
      "outputs": [
        {
          "output_type": "stream",
          "name": "stdout",
          "text": [
            "Hoy aprenderé a usar la función ‘print’\n"
          ]
        }
      ],
      "source": [
        "#Espacio para Solucionar\n",
        "print(\"Hoy aprenderé a usar la función ‘print’\")"
      ]
    },
    {
      "cell_type": "markdown",
      "id": "bde0dc8c-4eaf-4745-99f3-28da569395a3",
      "metadata": {
        "id": "bde0dc8c-4eaf-4745-99f3-28da569395a3"
      },
      "source": [
        "Triples comillas\n",
        "\n",
        "Esto se resuelve utilizando dobles comillas"
      ]
    },
    {
      "cell_type": "code",
      "execution_count": null,
      "id": "e0fdec45-8cb7-4be5-994c-87eef67685d9",
      "metadata": {
        "id": "e0fdec45-8cb7-4be5-994c-87eef67685d9"
      },
      "outputs": [],
      "source": [
        "#Espacio para Solucionar"
      ]
    },
    {
      "cell_type": "markdown",
      "id": "ea86c6b8-771a-4617-9fec-a93916e87a53",
      "metadata": {
        "id": "ea86c6b8-771a-4617-9fec-a93916e87a53"
      },
      "source": [
        "Esta diferencia será más obvia cuando trabajemos líneas de texto en el ambiente de JupyterLab.\n",
        "Otras opciones para insertar texto el prompt de Anaconda son\n",
        "\n",
        "**print(‘Hoy aprenderé’,’a usar’, ‘la función print’)**\n",
        "\n",
        "**print(‘Hoy aprenderé\\n a usar\\n la función print’)**\n",
        "\n",
        "\n",
        "print(‘También aprenderé a dividir \\\n",
        "\n",
        "…: líneas de texto cuando las expresiones \\\n",
        "\n",
        "…: sean demasiado largas’)"
      ]
    },
    {
      "cell_type": "code",
      "execution_count": 36,
      "id": "fe21f618-e1aa-450a-a732-ac880a71eaba",
      "metadata": {
        "id": "fe21f618-e1aa-450a-a732-ac880a71eaba",
        "colab": {
          "base_uri": "https://localhost:8080/"
        },
        "outputId": "a4078807-f5f2-4f8b-abae-e78b6ecfc325"
      },
      "outputs": [
        {
          "output_type": "stream",
          "name": "stdout",
          "text": [
            "Hoy aprenderé\n",
            " a usar\n",
            " la función print\n"
          ]
        }
      ],
      "source": [
        "print(\"Hoy aprenderé\\n a usar\\n la función print\")"
      ]
    },
    {
      "cell_type": "markdown",
      "id": "da8ab0c5-ed69-491b-b0c3-b951eab1b304",
      "metadata": {
        "id": "da8ab0c5-ed69-491b-b0c3-b951eab1b304"
      },
      "source": [
        "Cuando requieras utilizar comillas dobles y sencillas en algún enunciado, por ejemplo\n",
        "\n",
        "Aprender ‘Python’, es realmente “sencillo”\n",
        "\n",
        "Es posible hacerlo utilizando triples comillas"
      ]
    },
    {
      "cell_type": "code",
      "execution_count": null,
      "id": "610e6493-a12e-4519-a32e-a79194139457",
      "metadata": {
        "id": "610e6493-a12e-4519-a32e-a79194139457"
      },
      "outputs": [],
      "source": [
        "#Espacio para Solucionar"
      ]
    },
    {
      "cell_type": "markdown",
      "id": "13741755-cfd3-4ced-bd60-8722bc73c0d2",
      "metadata": {
        "id": "13741755-cfd3-4ced-bd60-8722bc73c0d2"
      },
      "source": [
        "Con Python, puedes asignar a una variable un arreglo de caracteres\n",
        "\n",
        "**arreglo1=‘Hoy aprenderé a usar la función print’**"
      ]
    },
    {
      "cell_type": "code",
      "execution_count": 38,
      "id": "a825385d-73b8-4468-8bd3-594a5d7d6abe",
      "metadata": {
        "id": "a825385d-73b8-4468-8bd3-594a5d7d6abe",
        "colab": {
          "base_uri": "https://localhost:8080/"
        },
        "outputId": "c61e1e1f-60c1-4df5-b0ae-cfe488972619"
      },
      "outputs": [
        {
          "output_type": "stream",
          "name": "stdout",
          "text": [
            "Hoy aprenderé a usar la función print\n"
          ]
        }
      ],
      "source": [
        "arreglo1='Hoy aprenderé a usar la función print'\n",
        "print(arreglo1)"
      ]
    },
    {
      "cell_type": "markdown",
      "id": "3b14599d-02fb-4c28-8dfd-b27b01ee8e28",
      "metadata": {
        "id": "3b14599d-02fb-4c28-8dfd-b27b01ee8e28"
      },
      "source": [
        "Con estas herramientas, ya puedes mostrar los resultados de los cálculos en una forma más amigable\n",
        "\n",
        "Arma un programa que divida 2 variables y devuelva \"w elevado a la z da por resultado y\""
      ]
    },
    {
      "cell_type": "code",
      "execution_count": 39,
      "id": "212f99e9-b2d4-4f22-b12c-0690102154cb",
      "metadata": {
        "id": "212f99e9-b2d4-4f22-b12c-0690102154cb",
        "colab": {
          "base_uri": "https://localhost:8080/"
        },
        "outputId": "c2574d03-1b5c-418a-9df6-60a685a49b50"
      },
      "outputs": [
        {
          "output_type": "stream",
          "name": "stdout",
          "text": [
            "w elevado a la z da por resultado 1024\n"
          ]
        }
      ],
      "source": [
        "w=4\n",
        "z=5\n",
        "y=w**z\n",
        "print(\"w elevado a la z da por resultado\",y)"
      ]
    },
    {
      "cell_type": "markdown",
      "id": "b4585070-9949-427a-84f5-ccf0a3a7f9a1",
      "metadata": {
        "id": "b4585070-9949-427a-84f5-ccf0a3a7f9a1"
      },
      "source": [
        "Obtener input del usuario\n",
        "\n",
        "Input que solicita al usuario la información específica que debe ingresar al programa\n",
        "\n",
        "**nombre=input(‘¿Cuál es tu nombre?’)**"
      ]
    },
    {
      "cell_type": "code",
      "execution_count": 40,
      "id": "371649c1-a963-41d4-8025-670791d36f73",
      "metadata": {
        "id": "371649c1-a963-41d4-8025-670791d36f73",
        "colab": {
          "base_uri": "https://localhost:8080/"
        },
        "outputId": "21710adf-a40c-46d8-b3e1-847d135ffaa6"
      },
      "outputs": [
        {
          "output_type": "stream",
          "name": "stdout",
          "text": [
            "¿Cuál es tu nombre?Mike\n",
            "Mike\n"
          ]
        }
      ],
      "source": [
        "nombre=input(\"¿Cuál es tu nombre?\")\n",
        "print(nombre)"
      ]
    },
    {
      "cell_type": "markdown",
      "id": "a853d83c-f42c-4ed3-83eb-2f76d179f626",
      "metadata": {
        "id": "a853d83c-f42c-4ed3-83eb-2f76d179f626"
      },
      "source": [
        "Posteriormente puedes llamar a la variable nombre"
      ]
    },
    {
      "cell_type": "markdown",
      "id": "f4591abb-8139-466e-a48b-cda83af1bd14",
      "metadata": {
        "id": "f4591abb-8139-466e-a48b-cda83af1bd14"
      },
      "source": [
        "Por default, Python guarda las entradas que recibe del comando input como un arreglo. Revise el type en cuestión"
      ]
    },
    {
      "cell_type": "code",
      "execution_count": 41,
      "id": "cd0ea52b-96b1-4fcd-8be9-322e95a877aa",
      "metadata": {
        "id": "cd0ea52b-96b1-4fcd-8be9-322e95a877aa",
        "colab": {
          "base_uri": "https://localhost:8080/"
        },
        "outputId": "622bbdd8-e45a-422a-bf43-70a5cec17ff8"
      },
      "outputs": [
        {
          "output_type": "execute_result",
          "data": {
            "text/plain": [
              "str"
            ]
          },
          "metadata": {},
          "execution_count": 41
        }
      ],
      "source": [
        "type(nombre)"
      ]
    },
    {
      "cell_type": "markdown",
      "id": "5a50edd7-4634-4c10-a0f9-e2a3fb07cd84",
      "metadata": {
        "id": "5a50edd7-4634-4c10-a0f9-e2a3fb07cd84"
      },
      "source": [
        "Arma un programa que te pida 2 números y los sume"
      ]
    },
    {
      "cell_type": "code",
      "execution_count": 42,
      "id": "74947eed-8b26-4a2a-9c0e-567bd73988b7",
      "metadata": {
        "id": "74947eed-8b26-4a2a-9c0e-567bd73988b7",
        "colab": {
          "base_uri": "https://localhost:8080/"
        },
        "outputId": "b533f595-16d0-457f-fc45-605b861d8b27"
      },
      "outputs": [
        {
          "output_type": "stream",
          "name": "stdout",
          "text": [
            "Ingresa un número5\n",
            "Ingresa otro número1\n",
            "51\n"
          ]
        }
      ],
      "source": [
        "num1=input(\"Ingresa un número\")\n",
        "num2=input(\"Ingresa otro número\")\n",
        "suma=num1+num2\n",
        "print(suma)"
      ]
    },
    {
      "cell_type": "markdown",
      "id": "69fe69ee-445e-424c-bcd1-8af19b75ef4e",
      "metadata": {
        "id": "69fe69ee-445e-424c-bcd1-8af19b75ef4e"
      },
      "source": [
        "No se pudo, para que python pueda hay que usar **int()**"
      ]
    },
    {
      "cell_type": "code",
      "execution_count": null,
      "id": "8dc93858-923a-41b8-b179-6025fd33878f",
      "metadata": {
        "id": "8dc93858-923a-41b8-b179-6025fd33878f"
      },
      "outputs": [],
      "source": [
        "#Espacio para Solucionar"
      ]
    },
    {
      "cell_type": "markdown",
      "id": "715564fc-75c1-4dd4-b115-89e1763246a4",
      "metadata": {
        "id": "715564fc-75c1-4dd4-b115-89e1763246a4"
      },
      "source": [
        "#### Por tu cuenta\n",
        "\n",
        "Usa float() para convertir \"6.2\" (una cadena) a un valor flotante"
      ]
    },
    {
      "cell_type": "code",
      "execution_count": null,
      "id": "62e04f9b-7f4f-4a24-a17b-3a9210c6a8ce",
      "metadata": {
        "id": "62e04f9b-7f4f-4a24-a17b-3a9210c6a8ce"
      },
      "outputs": [],
      "source": [
        "#Espacio para Solucionar"
      ]
    },
    {
      "cell_type": "markdown",
      "id": "ff47d95b-02aa-4c5a-a539-df106c393c09",
      "metadata": {
        "id": "ff47d95b-02aa-4c5a-a539-df106c393c09"
      },
      "source": [
        "---"
      ]
    },
    {
      "cell_type": "markdown",
      "id": "02620ade-789c-4784-a14b-47095b74f033",
      "metadata": {
        "id": "02620ade-789c-4784-a14b-47095b74f033"
      },
      "source": [
        "Primeros Programas con python"
      ]
    },
    {
      "cell_type": "markdown",
      "id": "056407e5-1261-49e1-81cc-d56e3107abb6",
      "metadata": {
        "id": "056407e5-1261-49e1-81cc-d56e3107abb6"
      },
      "source": [
        "Ejecuta el siguiente script.\n",
        "\n",
        "Se pude ejecutar desde Consola de forma Local en el PC"
      ]
    },
    {
      "cell_type": "code",
      "source": [
        "print('Ingresa tu edad y la de tu mejor amigo, para decirte la relación qué hay entre ellas ')\n",
        "#Lee la primera edad\n",
        "edad1=int(input('Ingresa tu edad: '))\n",
        "edad2=int(input('Ingresa la edad de tu mejor amigo: '))\n",
        "\n",
        "\n",
        "if edad1==edad2:\n",
        "    print(edad1,'es igual',edad2,'\\n Tu amigo y tú, tienen la misma edad.')\n",
        "if edad1 !=edad2:\n",
        "    print(edad1,' es diferente de',edad2,'\\n Tu amigo y tú tienen edades diferentes.')\n",
        "if edad1 < edad2:\n",
        "    print(edad1,' es menor que',edad2,'\\n Tu amigo es mayor que tú.')\n",
        "if edad1 > edad2:\n",
        "    print(edad1,' es mayor que',edad2,'\\n Tu amigo es menor que tú.')\n",
        "if edad1 <= edad2:\n",
        "    print(edad1,' es menor o igual a',edad2,'\\n Tu amigo tiene al menos, tu edad.')\n",
        "if edad1 > edad2:\n",
        "    print(edad1,' es mayor que',edad2,'\\n Tu amigo tiene a lo más, tu edad.')\n"
      ],
      "metadata": {
        "id": "6Lif1jWZBJZ1"
      },
      "id": "6Lif1jWZBJZ1",
      "execution_count": null,
      "outputs": []
    },
    {
      "cell_type": "markdown",
      "source": [],
      "metadata": {
        "id": "e2QVrmXyQ_oD"
      },
      "id": "e2QVrmXyQ_oD"
    },
    {
      "cell_type": "markdown",
      "id": "233bebf3-995f-47cb-9c2b-8ff13c938a44",
      "metadata": {
        "id": "233bebf3-995f-47cb-9c2b-8ff13c938a44"
      },
      "source": [
        "Recuerda que en python también podemos hacer comparaciones mayor y menor que"
      ]
    },
    {
      "cell_type": "markdown",
      "id": "3bffa3af-3dd7-4672-94d1-bbe18ae7247e",
      "metadata": {
        "id": "3bffa3af-3dd7-4672-94d1-bbe18ae7247e"
      },
      "source": [
        "Y que también, para checar si algo es igual, se usa =="
      ]
    },
    {
      "cell_type": "code",
      "source": [],
      "metadata": {
        "id": "tDLGgRAtOGO4"
      },
      "id": "tDLGgRAtOGO4",
      "execution_count": null,
      "outputs": []
    },
    {
      "cell_type": "markdown",
      "id": "58b2b137-def5-4acb-ae48-f07f3783d3de",
      "metadata": {
        "id": "58b2b137-def5-4acb-ae48-f07f3783d3de"
      },
      "source": [
        "---"
      ]
    }
  ],
  "metadata": {
    "kernelspec": {
      "display_name": "Python 3",
      "language": "python",
      "name": "python3"
    },
    "language_info": {
      "codemirror_mode": {
        "name": "ipython",
        "version": 3
      },
      "file_extension": ".py",
      "mimetype": "text/x-python",
      "name": "python",
      "nbconvert_exporter": "python",
      "pygments_lexer": "ipython3",
      "version": "3.8.8"
    },
    "colab": {
      "provenance": [],
      "include_colab_link": true
    }
  },
  "nbformat": 4,
  "nbformat_minor": 5
}