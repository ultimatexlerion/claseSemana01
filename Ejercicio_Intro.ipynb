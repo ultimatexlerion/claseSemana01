{
  "nbformat": 4,
  "nbformat_minor": 0,
  "metadata": {
    "colab": {
      "provenance": [],
      "authorship_tag": "ABX9TyOT2FFyCl+2Ot8RNstpkGyJ",
      "include_colab_link": true
    },
    "kernelspec": {
      "name": "python3",
      "display_name": "Python 3"
    },
    "language_info": {
      "name": "python"
    }
  },
  "cells": [
    {
      "cell_type": "markdown",
      "metadata": {
        "id": "view-in-github",
        "colab_type": "text"
      },
      "source": [
        "<a href=\"https://colab.research.google.com/github/ultimatexlerion/claseSemana01/blob/main/Ejercicio_Intro.ipynb\" target=\"_parent\"><img src=\"https://colab.research.google.com/assets/colab-badge.svg\" alt=\"Open In Colab\"/></a>"
      ]
    },
    {
      "cell_type": "code",
      "execution_count": 2,
      "metadata": {
        "colab": {
          "base_uri": "https://localhost:8080/"
        },
        "id": "cu3xUSHhUfYD",
        "outputId": "2519230d-47b1-47e9-cb80-a10bb70fc45b"
      },
      "outputs": [
        {
          "output_type": "stream",
          "name": "stdout",
          "text": [
            "Mike 39\n"
          ]
        }
      ],
      "source": [
        "Nombre = \"Mike\"\n",
        "Edad = 39\n",
        "print(Nombre, Edad)"
      ]
    },
    {
      "cell_type": "code",
      "source": [
        "print(\"Hola, soy\", Nombre)\n",
        "print(\"Tengo actualmente\", Edad)"
      ],
      "metadata": {
        "colab": {
          "base_uri": "https://localhost:8080/"
        },
        "id": "2Ws0_KW5UraM",
        "outputId": "b448016a-a63b-47bb-b072-6b8eadda14cc"
      },
      "execution_count": 3,
      "outputs": [
        {
          "output_type": "stream",
          "name": "stdout",
          "text": [
            "Hola, soy Mike\n",
            "Tengo actualmente 39\n"
          ]
        }
      ]
    },
    {
      "cell_type": "code",
      "source": [
        "amigo_1, amigo_2, ubicacion = \"Edwin\", \"Memo\", \"Chia\""
      ],
      "metadata": {
        "id": "mebyV-3SVTSB"
      },
      "execution_count": 9,
      "outputs": []
    },
    {
      "cell_type": "code",
      "source": [
        "print(\"Hola, mi nombre es\", Nombre)"
      ],
      "metadata": {
        "colab": {
          "base_uri": "https://localhost:8080/"
        },
        "id": "prc8Ro7cWtsi",
        "outputId": "ab2d5de9-1091-4fb6-f971-14aed7ddc5bb"
      },
      "execution_count": 10,
      "outputs": [
        {
          "output_type": "stream",
          "name": "stdout",
          "text": [
            "Hola, mi nombre es Mike\n"
          ]
        }
      ]
    },
    {
      "cell_type": "code",
      "source": [
        "print(f\"Tengo {Edad} años y me acompañan mis amigos {amigo_1} y {amigo_2}. y vivimos en {ubicacion}\")"
      ],
      "metadata": {
        "colab": {
          "base_uri": "https://localhost:8080/"
        },
        "id": "2SrC8m8DW3IS",
        "outputId": "acd7e84a-97cb-4093-cf3a-115bba5ffff1"
      },
      "execution_count": 11,
      "outputs": [
        {
          "output_type": "stream",
          "name": "stdout",
          "text": [
            "Tengo 39 años y me acompañan mis amigos Edwin y Memo. y vivimos en Chia\n"
          ]
        }
      ]
    },
    {
      "cell_type": "code",
      "source": [],
      "metadata": {
        "id": "6ZZ52xapXYzN"
      },
      "execution_count": null,
      "outputs": []
    },
    {
      "cell_type": "code",
      "source": [],
      "metadata": {
        "id": "LDWQsFEdWcTS"
      },
      "execution_count": null,
      "outputs": []
    },
    {
      "cell_type": "code",
      "source": [],
      "metadata": {
        "id": "8vu_1wU4WY6Q"
      },
      "execution_count": null,
      "outputs": []
    },
    {
      "cell_type": "code",
      "source": [],
      "metadata": {
        "id": "zqs7o03qWV3u"
      },
      "execution_count": null,
      "outputs": []
    },
    {
      "cell_type": "code",
      "source": [],
      "metadata": {
        "id": "vz22uYqmWIlP"
      },
      "execution_count": null,
      "outputs": []
    },
    {
      "cell_type": "code",
      "source": [],
      "metadata": {
        "id": "R-eJKIKxWErG"
      },
      "execution_count": null,
      "outputs": []
    },
    {
      "cell_type": "code",
      "source": [],
      "metadata": {
        "id": "nJCDTAXcUndC"
      },
      "execution_count": null,
      "outputs": []
    }
  ]
}