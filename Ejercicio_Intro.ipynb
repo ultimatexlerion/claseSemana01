{
  "nbformat": 4,
  "nbformat_minor": 0,
  "metadata": {
    "colab": {
      "provenance": [],
      "authorship_tag": "ABX9TyOZoZ3k+NxGXi99NTaHxi+a",
      "include_colab_link": true
    },
    "kernelspec": {
      "name": "python3",
      "display_name": "Python 3"
    },
    "language_info": {
      "name": "python"
    }
  },
  "cells": [
    {
      "cell_type": "markdown",
      "metadata": {
        "id": "view-in-github",
        "colab_type": "text"
      },
      "source": [
        "<a href=\"https://colab.research.google.com/github/ultimatexlerion/claseSemana01/blob/main/Ejercicio_Intro.ipynb\" target=\"_parent\"><img src=\"https://colab.research.google.com/assets/colab-badge.svg\" alt=\"Open In Colab\"/></a>"
      ]
    },
    {
      "cell_type": "code",
      "execution_count": 29,
      "metadata": {
        "colab": {
          "base_uri": "https://localhost:8080/"
        },
        "id": "cu3xUSHhUfYD",
        "outputId": "b4b07fe8-93d2-4cb6-d6cb-048440bfb6f1"
      },
      "outputs": [
        {
          "output_type": "stream",
          "name": "stdout",
          "text": [
            "Nombre: mike\n",
            "Edad: 39\n",
            "mike 39\n"
          ]
        }
      ],
      "source": [
        "Nombre = input(\"Nombre: \")\n",
        "Edad = input(\"Edad: \")\n",
        "print(Nombre, Edad)"
      ]
    },
    {
      "cell_type": "code",
      "source": [
        "print(\"Hola, soy\", Nombre)\n",
        "print(\"Tengo actualmente\", Edad)"
      ],
      "metadata": {
        "colab": {
          "base_uri": "https://localhost:8080/"
        },
        "id": "2Ws0_KW5UraM",
        "outputId": "4ef5afde-7caf-4bdf-d52b-8697b0c481e1"
      },
      "execution_count": 30,
      "outputs": [
        {
          "output_type": "stream",
          "name": "stdout",
          "text": [
            "Hola, soy mike\n",
            "Tengo actualmente 39\n"
          ]
        }
      ]
    },
    {
      "cell_type": "code",
      "source": [
        "amigo_1, amigo_2, ubicacion = \"Edwin\", \"Memo\", \"Chia\""
      ],
      "metadata": {
        "id": "mebyV-3SVTSB"
      },
      "execution_count": 32,
      "outputs": []
    },
    {
      "cell_type": "code",
      "source": [
        "print(f\"Hola, mi nombre es\", Nombre, \"y mis amigos son: \" + amigo_1, amigo_2)"
      ],
      "metadata": {
        "colab": {
          "base_uri": "https://localhost:8080/"
        },
        "id": "prc8Ro7cWtsi",
        "outputId": "b9b5d901-46aa-4c2b-d391-d89b2584040e"
      },
      "execution_count": 74,
      "outputs": [
        {
          "output_type": "stream",
          "name": "stdout",
          "text": [
            "Hola, mi nombre es mike y mis amigos son: Edwin Memo\n"
          ]
        }
      ]
    },
    {
      "cell_type": "code",
      "source": [
        "print(f\"Mi nombre es {Nombre} Tengo {Edad} años y me acompañan mis amigos {amigo_1} y {amigo_2}. y vivimos en {ubicacion}\")"
      ],
      "metadata": {
        "colab": {
          "base_uri": "https://localhost:8080/"
        },
        "id": "2SrC8m8DW3IS",
        "outputId": "007b1842-e98c-4b31-8144-32e41bb9000c"
      },
      "execution_count": 34,
      "outputs": [
        {
          "output_type": "stream",
          "name": "stdout",
          "text": [
            "Mi nombre es mike Tengo 39 años y me acompañan mis amigos Edwin y Memo. y vivimos en Chia\n"
          ]
        }
      ]
    },
    {
      "cell_type": "markdown",
      "source": [
        "Metodo Format"
      ],
      "metadata": {
        "id": "-tS9NQW5a03O"
      }
    },
    {
      "cell_type": "code",
      "source": [
        "mensaje = \"Hola, soy {} y estoy en la \\n {} {}\\t\".format(Nombre, ubicacion, \"y estoy con mi amigo \" + amigo_1 )\n",
        "print(mensaje)"
      ],
      "metadata": {
        "colab": {
          "base_uri": "https://localhost:8080/"
        },
        "id": "0rPE6cYba2SG",
        "outputId": "80ed1598-ac9f-445a-95cb-3d50e495493c"
      },
      "execution_count": 70,
      "outputs": [
        {
          "output_type": "stream",
          "name": "stdout",
          "text": [
            "Hola, soy mike y estoy en la \n",
            " Chia y estoy con mi amigo Edwin\t\n"
          ]
        }
      ]
    },
    {
      "cell_type": "markdown",
      "source": [
        "Variables Float"
      ],
      "metadata": {
        "id": "0B9WI_LOgatS"
      }
    },
    {
      "cell_type": "code",
      "source": [
        "altura = input(\"Altura: \") #tipo float\n",
        "altura = float(altura)\n",
        "print(f\"Mi nombre es {Nombre}, (tipo: {type(Nombre).__name__})\")\n",
        "print(f\"Tengo {Edad} años (tipo: {type(Edad).__name__}) y estoy acompañado de {amigo_1} y {amigo_2} (tipo: {type(amigo_1).__name__})\")\n",
        "print(f\"Mi altura es {altura: .2f} metros (tipo: {type(altura).__name__}).\") #el .2f es para traer los dos ultimos digitos flotantes"
      ],
      "metadata": {
        "colab": {
          "base_uri": "https://localhost:8080/"
        },
        "id": "oi8cpueQcOev",
        "outputId": "dad7249a-05ba-4895-c212-00507d76ab52"
      },
      "execution_count": 75,
      "outputs": [
        {
          "output_type": "stream",
          "name": "stdout",
          "text": [
            "Altura: 1.82\n",
            "Mi nombre es mike, (tipo: str)\n",
            "Tengo 39 años (tipo: str) y estoy acompañado de Edwin y Memo (tipo: str)\n",
            "Mi altura es  1.82 metros (tipo: float).\n"
          ]
        }
      ]
    },
    {
      "cell_type": "markdown",
      "source": [
        "Conversion de Numeros, Boleanos y Strings"
      ],
      "metadata": {
        "id": "kFDpEKQnrNjI"
      }
    },
    {
      "cell_type": "code",
      "source": [
        "#Numeros\n",
        "entero = 39\n",
        "decimal = 3.14\n",
        "\n",
        "#imprimir entero\n",
        "print(\"El numero entero es \", entero)\n",
        "\n",
        "#Cadenas (strings)\n",
        "entero_str= str(entero)\n",
        "\n",
        "#Sumar los valores de los strings y numeros\n",
        "suma_valores=int(entero_str)+entero\n",
        "print(\"Comprobando tipos\")\n",
        "typ_entero=type(entero)\n",
        "typ_str=type(entero_str)\n",
        "print(f\"la suma de {entero}({typ_entero}) + {entero_str} ({typ_str}) es {suma_valores}\")\n",
        "#Boobleans : Son los conocedores de la verdad\n",
        "es_mayor = True\n",
        "\n",
        "#Convertir entero a cadena\n",
        "edad_int = str(edad_str)\n",
        "\n",
        "type(edad_str)\n",
        "print(frase, es_mayor, edad_str)\n",
        "\n",
        "print(f\"La edad de {Nombre}, es {Edad}\")\n"
      ],
      "metadata": {
        "colab": {
          "base_uri": "https://localhost:8080/"
        },
        "id": "zqs7o03qWV3u",
        "outputId": "6f7e1875-0044-4d13-cdcc-6ed19e1bbf45"
      },
      "execution_count": 87,
      "outputs": [
        {
          "output_type": "stream",
          "name": "stdout",
          "text": [
            "El numero entero es  39\n",
            "Comprobando tipos\n",
            "la suma de 39(<class 'int'>) + 39 (<class 'str'>) es 78\n",
            "!Bienvenidos a Xlerion¡ True 39\n",
            "La edad de mike, es 39\n"
          ]
        }
      ]
    },
    {
      "cell_type": "code",
      "source": [
        "import keyword\n",
        "#Palabras reservadas\n",
        "palabras_reservadas = keyword.kwlist\n",
        "print(palabras_reservadas)"
      ],
      "metadata": {
        "colab": {
          "base_uri": "https://localhost:8080/"
        },
        "id": "poKbFQogsAr0",
        "outputId": "b12e5386-0485-4b16-a4af-3e19852e3401"
      },
      "execution_count": 89,
      "outputs": [
        {
          "output_type": "stream",
          "name": "stdout",
          "text": [
            "['False', 'None', 'True', 'and', 'as', 'assert', 'async', 'await', 'break', 'class', 'continue', 'def', 'del', 'elif', 'else', 'except', 'finally', 'for', 'from', 'global', 'if', 'import', 'in', 'is', 'lambda', 'nonlocal', 'not', 'or', 'pass', 'raise', 'return', 'try', 'while', 'with', 'yield']\n"
          ]
        }
      ]
    },
    {
      "cell_type": "code",
      "source": [],
      "metadata": {
        "id": "2r7hjtpWxy4h"
      },
      "execution_count": null,
      "outputs": []
    }
  ]
}