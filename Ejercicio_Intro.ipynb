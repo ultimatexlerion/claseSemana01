{
  "nbformat": 4,
  "nbformat_minor": 0,
  "metadata": {
    "colab": {
      "provenance": [],
      "authorship_tag": "ABX9TyP9aiNh6NC2hmIuzZHWRVkI",
      "include_colab_link": true
    },
    "kernelspec": {
      "name": "python3",
      "display_name": "Python 3"
    },
    "language_info": {
      "name": "python"
    }
  },
  "cells": [
    {
      "cell_type": "markdown",
      "metadata": {
        "id": "view-in-github",
        "colab_type": "text"
      },
      "source": [
        "<a href=\"https://colab.research.google.com/github/ultimatexlerion/claseSemana01/blob/main/Ejercicio_Intro.ipynb\" target=\"_parent\"><img src=\"https://colab.research.google.com/assets/colab-badge.svg\" alt=\"Open In Colab\"/></a>"
      ]
    },
    {
      "cell_type": "code",
      "execution_count": 29,
      "metadata": {
        "colab": {
          "base_uri": "https://localhost:8080/"
        },
        "id": "cu3xUSHhUfYD",
        "outputId": "b4b07fe8-93d2-4cb6-d6cb-048440bfb6f1"
      },
      "outputs": [
        {
          "output_type": "stream",
          "name": "stdout",
          "text": [
            "Nombre: mike\n",
            "Edad: 39\n",
            "mike 39\n"
          ]
        }
      ],
      "source": [
        "Nombre = input(\"Nombre: \")\n",
        "Edad = input(\"Edad: \")\n",
        "print(Nombre, Edad)"
      ]
    },
    {
      "cell_type": "code",
      "source": [
        "print(\"Hola, soy\", Nombre)\n",
        "print(\"Tengo actualmente\", Edad)"
      ],
      "metadata": {
        "colab": {
          "base_uri": "https://localhost:8080/"
        },
        "id": "2Ws0_KW5UraM",
        "outputId": "4ef5afde-7caf-4bdf-d52b-8697b0c481e1"
      },
      "execution_count": 30,
      "outputs": [
        {
          "output_type": "stream",
          "name": "stdout",
          "text": [
            "Hola, soy mike\n",
            "Tengo actualmente 39\n"
          ]
        }
      ]
    },
    {
      "cell_type": "code",
      "source": [
        "amigo_1, amigo_2, ubicacion = \"Edwin\", \"Memo\", \"Chia\""
      ],
      "metadata": {
        "id": "mebyV-3SVTSB"
      },
      "execution_count": 32,
      "outputs": []
    },
    {
      "cell_type": "code",
      "source": [
        "print(\"Hola, mi nombre es\", Nombre, \"y mis amigos son: \", amigo_1, amigo_2)"
      ],
      "metadata": {
        "colab": {
          "base_uri": "https://localhost:8080/"
        },
        "id": "prc8Ro7cWtsi",
        "outputId": "631c9791-9402-4d55-faaa-663fc8cfdb2e"
      },
      "execution_count": 44,
      "outputs": [
        {
          "output_type": "stream",
          "name": "stdout",
          "text": [
            "Hola, mi nombre es mike y mis amigos son:  Edwin Memo\n"
          ]
        }
      ]
    },
    {
      "cell_type": "code",
      "source": [
        "print(f\"Mi nombre es {Nombre} Tengo {Edad} años y me acompañan mis amigos {amigo_1} y {amigo_2}. y vivimos en {ubicacion}\")"
      ],
      "metadata": {
        "colab": {
          "base_uri": "https://localhost:8080/"
        },
        "id": "2SrC8m8DW3IS",
        "outputId": "007b1842-e98c-4b31-8144-32e41bb9000c"
      },
      "execution_count": 34,
      "outputs": [
        {
          "output_type": "stream",
          "name": "stdout",
          "text": [
            "Mi nombre es mike Tengo 39 años y me acompañan mis amigos Edwin y Memo. y vivimos en Chia\n"
          ]
        }
      ]
    },
    {
      "cell_type": "markdown",
      "source": [
        "Metodo Format"
      ],
      "metadata": {
        "id": "-tS9NQW5a03O"
      }
    },
    {
      "cell_type": "code",
      "source": [
        "mensaje = \"Hola, soy {} y estoy en la {} \\n {}\\t\".format(Nombre, ubicacion, amigo_1)\n",
        "print(mensaje)"
      ],
      "metadata": {
        "colab": {
          "base_uri": "https://localhost:8080/"
        },
        "id": "0rPE6cYba2SG",
        "outputId": "d9e6cdb9-2a5c-4397-ef1c-f7f7b923411a"
      },
      "execution_count": 60,
      "outputs": [
        {
          "output_type": "stream",
          "name": "stdout",
          "text": [
            "Hola, soy mike y estoy en la Chia \n",
            " Edwin\t.\n"
          ]
        }
      ]
    },
    {
      "cell_type": "markdown",
      "source": [
        "Variables Float"
      ],
      "metadata": {
        "id": "0B9WI_LOgatS"
      }
    },
    {
      "cell_type": "code",
      "source": [
        "altura = input(\"Altura: \") #tipo float\n",
        "altura = float(altura)\n",
        "print(f\"Mi nombre es {Nombre}, (tipo: {type(Nombre).__name__})\")\n",
        "print(f\"Tengo {Edad} años (tipo: {type(Edad).__name__}) y estoy acompañado de {amigo_1} y {amigo_2}\")\n",
        "print(f\"Mi altura es {altura: .2f} metros (tipo: {type(altura).__name__}).\") #el .2f es para traer los dos ultimos digitos flotantes"
      ],
      "metadata": {
        "colab": {
          "base_uri": "https://localhost:8080/"
        },
        "id": "oi8cpueQcOev",
        "outputId": "ed97af48-2c47-4b84-86cd-e43a50bf4d8e"
      },
      "execution_count": 62,
      "outputs": [
        {
          "output_type": "stream",
          "name": "stdout",
          "text": [
            "Altura: 1.82\n",
            "Mi nombre es mike, (tipo: str)\n",
            "Tengo 39 años (tipo: str) y estoy acompañado de Edwin y Memo\n",
            "Mi altura es  1.82 metros (tipo: float).\n"
          ]
        }
      ]
    },
    {
      "cell_type": "code",
      "source": [],
      "metadata": {
        "id": "zqs7o03qWV3u"
      },
      "execution_count": null,
      "outputs": []
    }
  ]
}