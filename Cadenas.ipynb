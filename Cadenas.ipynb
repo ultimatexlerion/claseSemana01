{
  "nbformat": 4,
  "nbformat_minor": 0,
  "metadata": {
    "colab": {
      "provenance": [],
      "authorship_tag": "ABX9TyOuFYV8Jnc8VGwAn563F96G",
      "include_colab_link": true
    },
    "kernelspec": {
      "name": "python3",
      "display_name": "Python 3"
    },
    "language_info": {
      "name": "python"
    }
  },
  "cells": [
    {
      "cell_type": "markdown",
      "metadata": {
        "id": "view-in-github",
        "colab_type": "text"
      },
      "source": [
        "<a href=\"https://colab.research.google.com/github/ultimatexlerion/claseSemana01/blob/main/Cadenas.ipynb\" target=\"_parent\"><img src=\"https://colab.research.google.com/assets/colab-badge.svg\" alt=\"Open In Colab\"/></a>"
      ]
    },
    {
      "cell_type": "markdown",
      "source": [
        "**Cadenas**"
      ],
      "metadata": {
        "id": "t0HTQMNJlH8k"
      }
    },
    {
      "cell_type": "code",
      "execution_count": 2,
      "metadata": {
        "id": "pK9MZInWlBQg"
      },
      "outputs": [],
      "source": [
        "nombre = \"Mike\"\n",
        "edad = 39"
      ]
    },
    {
      "cell_type": "markdown",
      "source": [
        "Alinear a la izq con 10 espacion al inicio y 5 al final"
      ],
      "metadata": {
        "id": "QCsObWoulG_V"
      }
    },
    {
      "cell_type": "code",
      "source": [
        "cadenal1 = f'{nombre:<10}tiene {edad} años'\n",
        "cadenal1"
      ],
      "metadata": {
        "colab": {
          "base_uri": "https://localhost:8080/",
          "height": 35
        },
        "id": "1glNY2j0llki",
        "outputId": "8117ec16-65bb-45dd-a959-73a0e779a194"
      },
      "execution_count": 3,
      "outputs": [
        {
          "output_type": "execute_result",
          "data": {
            "text/plain": [
              "'Mike      tiene 39 años'"
            ],
            "application/vnd.google.colaboratory.intrinsic+json": {
              "type": "string"
            }
          },
          "metadata": {},
          "execution_count": 3
        }
      ]
    },
    {
      "cell_type": "markdown",
      "source": [
        "Alinear a la izq con 5 espacion al inicio y 10 al final"
      ],
      "metadata": {
        "id": "fx3fBPnimJaH"
      }
    },
    {
      "cell_type": "code",
      "source": [
        "cadena2 = f'{nombre:>5} tiene {edad} años'\n",
        "cadena2"
      ],
      "metadata": {
        "colab": {
          "base_uri": "https://localhost:8080/",
          "height": 35
        },
        "id": "vEGlFsWClv74",
        "outputId": "1cbabe68-3cb7-4dbe-8062-24282139fae1"
      },
      "execution_count": 7,
      "outputs": [
        {
          "output_type": "execute_result",
          "data": {
            "text/plain": [
              "' Mike tiene 39 años'"
            ],
            "application/vnd.google.colaboratory.intrinsic+json": {
              "type": "string"
            }
          },
          "metadata": {},
          "execution_count": 7
        }
      ]
    },
    {
      "cell_type": "markdown",
      "source": [
        "Alinear a la izq con 3 espacio al inicio y  al final"
      ],
      "metadata": {
        "id": "o_HmDSuvmO57"
      }
    },
    {
      "cell_type": "code",
      "source": [
        "cadena3 = f'{nombre:^50} tiene {edad} años'\n",
        "cadena3"
      ],
      "metadata": {
        "colab": {
          "base_uri": "https://localhost:8080/",
          "height": 35
        },
        "id": "gkZ7d4Eml66-",
        "outputId": "24c88812-ce67-402f-b4a0-2f277c9c68cb"
      },
      "execution_count": 8,
      "outputs": [
        {
          "output_type": "execute_result",
          "data": {
            "text/plain": [
              "'                       Mike                        tiene 39 años'"
            ],
            "application/vnd.google.colaboratory.intrinsic+json": {
              "type": "string"
            }
          },
          "metadata": {},
          "execution_count": 8
        }
      ]
    },
    {
      "cell_type": "code",
      "source": [],
      "metadata": {
        "id": "3n7Fhp_Jl-Rg"
      },
      "execution_count": null,
      "outputs": []
    }
  ]
}