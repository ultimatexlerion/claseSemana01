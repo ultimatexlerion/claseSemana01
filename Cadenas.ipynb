{
  "nbformat": 4,
  "nbformat_minor": 0,
  "metadata": {
    "colab": {
      "provenance": [],
      "authorship_tag": "ABX9TyNGjl7/C3D5vzucNaf8KQgy",
      "include_colab_link": true
    },
    "kernelspec": {
      "name": "python3",
      "display_name": "Python 3"
    },
    "language_info": {
      "name": "python"
    }
  },
  "cells": [
    {
      "cell_type": "markdown",
      "metadata": {
        "id": "view-in-github",
        "colab_type": "text"
      },
      "source": [
        "<a href=\"https://colab.research.google.com/github/ultimatexlerion/claseSemana01/blob/main/Cadenas.ipynb\" target=\"_parent\"><img src=\"https://colab.research.google.com/assets/colab-badge.svg\" alt=\"Open In Colab\"/></a>"
      ]
    },
    {
      "cell_type": "markdown",
      "source": [
        "**Cadenas**"
      ],
      "metadata": {
        "id": "t0HTQMNJlH8k"
      }
    },
    {
      "cell_type": "markdown",
      "source": [
        "Dar formato a las Cadenas"
      ],
      "metadata": {
        "id": "k6RpZT_ZosjD"
      }
    },
    {
      "cell_type": "code",
      "execution_count": 2,
      "metadata": {
        "id": "pK9MZInWlBQg"
      },
      "outputs": [],
      "source": [
        "nombre = \"Mike\"\n",
        "edad = 39"
      ]
    },
    {
      "cell_type": "markdown",
      "source": [
        "Alinear a la izq con 10 espacion al inicio y 5 al final"
      ],
      "metadata": {
        "id": "QCsObWoulG_V"
      }
    },
    {
      "cell_type": "code",
      "source": [
        "cadenal1 = f'{nombre:<10}tiene {edad} años'\n",
        "cadenal1"
      ],
      "metadata": {
        "colab": {
          "base_uri": "https://localhost:8080/",
          "height": 35
        },
        "id": "1glNY2j0llki",
        "outputId": "8117ec16-65bb-45dd-a959-73a0e779a194"
      },
      "execution_count": 3,
      "outputs": [
        {
          "output_type": "execute_result",
          "data": {
            "text/plain": [
              "'Mike      tiene 39 años'"
            ],
            "application/vnd.google.colaboratory.intrinsic+json": {
              "type": "string"
            }
          },
          "metadata": {},
          "execution_count": 3
        }
      ]
    },
    {
      "cell_type": "markdown",
      "source": [
        "Alinear a la izq con 5 espacio al inicio y 10 al final"
      ],
      "metadata": {
        "id": "fx3fBPnimJaH"
      }
    },
    {
      "cell_type": "code",
      "source": [
        "cadena2 = f'{nombre:>5} tiene {edad} años'\n",
        "cadena2"
      ],
      "metadata": {
        "colab": {
          "base_uri": "https://localhost:8080/",
          "height": 35
        },
        "id": "vEGlFsWClv74",
        "outputId": "1cbabe68-3cb7-4dbe-8062-24282139fae1"
      },
      "execution_count": 7,
      "outputs": [
        {
          "output_type": "execute_result",
          "data": {
            "text/plain": [
              "' Mike tiene 39 años'"
            ],
            "application/vnd.google.colaboratory.intrinsic+json": {
              "type": "string"
            }
          },
          "metadata": {},
          "execution_count": 7
        }
      ]
    },
    {
      "cell_type": "markdown",
      "source": [
        "Alinear a la izq con 3 espacio al inicio y  al final"
      ],
      "metadata": {
        "id": "o_HmDSuvmO57"
      }
    },
    {
      "cell_type": "code",
      "source": [
        "cadena3 = f'{nombre:^50} tiene {edad} años'\n",
        "cadena3"
      ],
      "metadata": {
        "colab": {
          "base_uri": "https://localhost:8080/",
          "height": 35
        },
        "id": "gkZ7d4Eml66-",
        "outputId": "24c88812-ce67-402f-b4a0-2f277c9c68cb"
      },
      "execution_count": 8,
      "outputs": [
        {
          "output_type": "execute_result",
          "data": {
            "text/plain": [
              "'                       Mike                        tiene 39 años'"
            ],
            "application/vnd.google.colaboratory.intrinsic+json": {
              "type": "string"
            }
          },
          "metadata": {},
          "execution_count": 8
        }
      ]
    },
    {
      "cell_type": "code",
      "source": [
        "pi= 3.14159265359"
      ],
      "metadata": {
        "id": "3n7Fhp_Jl-Rg"
      },
      "execution_count": 9,
      "outputs": []
    },
    {
      "cell_type": "markdown",
      "source": [
        "**Cadena Derecha**"
      ],
      "metadata": {
        "id": "RveZ6NO4nFWu"
      }
    },
    {
      "cell_type": "code",
      "source": [
        "cadena_derecha = f'{pi:>10.2f}'\n",
        "cadena_derecha"
      ],
      "metadata": {
        "colab": {
          "base_uri": "https://localhost:8080/",
          "height": 35
        },
        "id": "L7f30umomt2g",
        "outputId": "2ea91b8d-6c7b-4975-951f-b07fc3088e7a"
      },
      "execution_count": 11,
      "outputs": [
        {
          "output_type": "execute_result",
          "data": {
            "text/plain": [
              "'      3.14'"
            ],
            "application/vnd.google.colaboratory.intrinsic+json": {
              "type": "string"
            }
          },
          "metadata": {},
          "execution_count": 11
        }
      ]
    },
    {
      "cell_type": "markdown",
      "source": [
        "**Cadena Izquierda**"
      ],
      "metadata": {
        "id": "1nLaR_RtnJMz"
      }
    },
    {
      "cell_type": "code",
      "source": [
        "cadena_izquierda = f'{pi:^10.2f} estos son los numero de pi'\n",
        "cadena_izquierda"
      ],
      "metadata": {
        "colab": {
          "base_uri": "https://localhost:8080/",
          "height": 35
        },
        "id": "bHEqDG2mmyRU",
        "outputId": "2b1ba320-6344-428e-c78b-a9d38a4fb567"
      },
      "execution_count": 14,
      "outputs": [
        {
          "output_type": "execute_result",
          "data": {
            "text/plain": [
              "'   3.14    estos son los numero de pi'"
            ],
            "application/vnd.google.colaboratory.intrinsic+json": {
              "type": "string"
            }
          },
          "metadata": {},
          "execution_count": 14
        }
      ]
    },
    {
      "cell_type": "markdown",
      "source": [
        "**Centrar Valores**"
      ],
      "metadata": {
        "id": "_IXxgWTAnS2l"
      }
    },
    {
      "cell_type": "code",
      "source": [
        "nombre = 'Mike'\n",
        "edad = 39"
      ],
      "metadata": {
        "id": "4KuAnOcfnQC8"
      },
      "execution_count": null,
      "outputs": []
    },
    {
      "cell_type": "code",
      "source": [
        "cadena_centro = f'{nombre:^10} | {edad}'\n",
        "cadena_centro"
      ],
      "metadata": {
        "colab": {
          "base_uri": "https://localhost:8080/",
          "height": 35
        },
        "id": "_stsbJ1fnWxA",
        "outputId": "86620b90-9112-469e-e085-7e058b6e7555"
      },
      "execution_count": 16,
      "outputs": [
        {
          "output_type": "execute_result",
          "data": {
            "text/plain": [
              "'   Mike    | 39'"
            ],
            "application/vnd.google.colaboratory.intrinsic+json": {
              "type": "string"
            }
          },
          "metadata": {},
          "execution_count": 16
        }
      ]
    },
    {
      "cell_type": "markdown",
      "source": [
        "Mostrar el nombre en 3 filas diferentes alineados a la derecha, centro e izquierda en un campo de 10 caracteres- encierra cada file de resultado brackets"
      ],
      "metadata": {
        "id": "C-qJDnzunlpf"
      }
    },
    {
      "cell_type": "code",
      "source": [
        "cadena_izquierda = f'[{nombre:<10}] es Alto'\n",
        "cadena_centro = f'[{nombre:^10}] es Tranquilo'\n",
        "cadena_derecha = f'[{nombre:>10}] es Activo'\n",
        "cadena_izquierda, cadena_centro, cadena_derecha"
      ],
      "metadata": {
        "colab": {
          "base_uri": "https://localhost:8080/"
        },
        "id": "PaxQI2-gm57n",
        "outputId": "95ff8dea-91cc-43c8-8b0b-f614d98a1d03"
      },
      "execution_count": 22,
      "outputs": [
        {
          "output_type": "execute_result",
          "data": {
            "text/plain": [
              "('[Mike      ] es Alto', '[   Mike   ] es Tranquilo', '[      Mike] es Activo')"
            ]
          },
          "metadata": {},
          "execution_count": 22
        }
      ]
    },
    {
      "cell_type": "markdown",
      "source": [
        "**###Formato Númerico**"
      ],
      "metadata": {
        "id": "Fqbq95g_qjws"
      }
    },
    {
      "cell_type": "markdown",
      "source": [
        "En el caso particular de cadenas de números, si requieres mostrar el signo. Puedes agregarlo en\n",
        "el f-string"
      ],
      "metadata": {
        "id": "dBd1qdUXqpmm"
      }
    },
    {
      "cell_type": "code",
      "source": [
        "numero = -15\n",
        "\n",
        "# Mostrar el signo junto al número\n",
        "cadena_con_signo = f'Número con signo: {numero:+}'\n",
        "print(cadena_con_signo)\n",
        "type(numero)\n",
        "type(cadena_con_signo)"
      ],
      "metadata": {
        "colab": {
          "base_uri": "https://localhost:8080/"
        },
        "id": "JdG0dJP_n58x",
        "outputId": "1fcbe851-02aa-45e1-f6eb-af66b2531a44"
      },
      "execution_count": 33,
      "outputs": [
        {
          "output_type": "stream",
          "name": "stdout",
          "text": [
            "Número con signo: -15\n"
          ]
        },
        {
          "output_type": "execute_result",
          "data": {
            "text/plain": [
              "str"
            ]
          },
          "metadata": {},
          "execution_count": 33
        }
      ]
    },
    {
      "cell_type": "code",
      "source": [
        "numero_positivo = 20\n",
        "\n",
        "# Mostrar el signo junto al número positivo\n",
        "cadena_positiva = f'Número positivo con signo: {numero_positivo:+}'\n",
        "print(cadena_positiva)"
      ],
      "metadata": {
        "colab": {
          "base_uri": "https://localhost:8080/"
        },
        "id": "X9EOQQwzqxcT",
        "outputId": "d8b3ea03-037b-4d27-a06e-584f87d45ed3"
      },
      "execution_count": 24,
      "outputs": [
        {
          "output_type": "stream",
          "name": "stdout",
          "text": [
            "Número positivo con signo: +20\n"
          ]
        }
      ]
    },
    {
      "cell_type": "code",
      "source": [
        "numero_negativo = -8\n",
        "\n",
        "# Mostrar el signo junto al número negativo\n",
        "cadena_negativa = f'Número negativo con signo: {numero_negativo:+}'\n",
        "print(cadena_negativa)"
      ],
      "metadata": {
        "colab": {
          "base_uri": "https://localhost:8080/"
        },
        "id": "r9oFtCe1q-bR",
        "outputId": "8e9eadcb-a028-460b-f82c-532e6479d87a"
      },
      "execution_count": 25,
      "outputs": [
        {
          "output_type": "stream",
          "name": "stdout",
          "text": [
            "Número negativo con signo: -8\n"
          ]
        }
      ]
    },
    {
      "cell_type": "markdown",
      "source": [
        "**Para agregar ceros en los espacios en blanco.**"
      ],
      "metadata": {
        "id": "36q4SCTerMLq"
      }
    },
    {
      "cell_type": "code",
      "source": [
        "numero = 123\n",
        "\n",
        "# Agregar ceros en los espacios en blanco\n",
        "cadena_con_ceros = f'Número con ceros: {numero:015}'\n",
        "print(cadena_con_ceros)"
      ],
      "metadata": {
        "colab": {
          "base_uri": "https://localhost:8080/"
        },
        "id": "2E6JrSPnrGhO",
        "outputId": "f3d9b77d-f894-42a7-c1da-e13644a83785"
      },
      "execution_count": 59,
      "outputs": [
        {
          "output_type": "stream",
          "name": "stdout",
          "text": [
            "Número con ceros: 000000000000123\n"
          ]
        }
      ]
    },
    {
      "cell_type": "code",
      "source": [
        "cadena_con_ceros = f'Número con ceros: {numero:005}'\n",
        "nuevo_num = str(numero)\n",
        "print(len(nuevo_num))\n",
        "\n",
        "print(str(nuevo_num[0:5])) #[0:5] desde el 0 hasta la posicion 5 y los : solos es el centro"
      ],
      "metadata": {
        "colab": {
          "base_uri": "https://localhost:8080/"
        },
        "id": "QtgCljLatNl-",
        "outputId": "7b964b67-1cc0-444c-fb9f-21005d94d0c5"
      },
      "execution_count": 60,
      "outputs": [
        {
          "output_type": "stream",
          "name": "stdout",
          "text": [
            "3\n",
            "123\n"
          ]
        }
      ]
    },
    {
      "cell_type": "code",
      "source": [
        "frase = \"La importancia de la experiencia es lo que realmente nos hace vivir. Sólo en ésta podemos conocer el misterio de la vida.\"\n",
        "print (len(frase))\n",
        "print (frase[61:81])"
      ],
      "metadata": {
        "colab": {
          "base_uri": "https://localhost:8080/"
        },
        "id": "G_XXMYc4v2IY",
        "outputId": "3a285546-35b3-4e64-c6e7-e942a1b5b0d9"
      },
      "execution_count": 83,
      "outputs": [
        {
          "output_type": "stream",
          "name": "stdout",
          "text": [
            "121\n",
            " vivir. Sólo en ésta\n"
          ]
        }
      ]
    },
    {
      "cell_type": "markdown",
      "source": [
        "**Regularmente a los números positivos no se les agrega el signo +. Pero, si requieres dejar el espacio en blanco para este tipo de números, utiliza un código como el siguiente**"
      ],
      "metadata": {
        "id": "OG-me_QZrVWe"
      }
    },
    {
      "cell_type": "code",
      "source": [
        "numero_positivo = 42\n",
        "\n",
        "# Dejar espacio en blanco para números positivos\n",
        "cadena_positiva = f'Número positivo: {numero_positivo: }'\n",
        "print(cadena_positiva)"
      ],
      "metadata": {
        "colab": {
          "base_uri": "https://localhost:8080/"
        },
        "id": "LqLjdg2VrPRi",
        "outputId": "6d9eaa32-f4ac-4559-a10d-807214b22d4f"
      },
      "execution_count": 37,
      "outputs": [
        {
          "output_type": "stream",
          "name": "stdout",
          "text": [
            "Número positivo:  42\n"
          ]
        }
      ]
    },
    {
      "cell_type": "markdown",
      "source": [
        "#### Por tu cuenta\n",
        "\n",
        "Imprime los valores 11483.528 y -4581.4413 cada uno precedido por su signo, en campos de 10 caracteres con separadores de miles, y su punto decimal alineado a 2 puntos de precisión. **texto en negrita**"
      ],
      "metadata": {
        "id": "lk34KTpLrgL8"
      }
    },
    {
      "cell_type": "code",
      "source": [
        "uno=11483.528\n",
        "dos=-4581.4413\n",
        "print(f'{uno:+10,.2f}')\n",
        "print(f'{dos:+10,.2f}')"
      ],
      "metadata": {
        "colab": {
          "base_uri": "https://localhost:8080/"
        },
        "id": "kBLVFt6grcmR",
        "outputId": "8fcdf867-4a73-47ed-f823-e03548193597"
      },
      "execution_count": 28,
      "outputs": [
        {
          "output_type": "stream",
          "name": "stdout",
          "text": [
            "+11,483.53\n",
            " -4,581.44\n"
          ]
        }
      ]
    },
    {
      "cell_type": "markdown",
      "source": [
        "**###Concatenar Cadenas que se repiten**"
      ],
      "metadata": {
        "id": "2U4aAaBlsFDP"
      }
    },
    {
      "cell_type": "markdown",
      "source": [
        "Anteriormente utilizaste el símbolo + para concatenar cadenas. Además de esta operación puedes\n",
        "repetir una misma cadena"
      ],
      "metadata": {
        "id": "60ISUsv4sIBg"
      }
    },
    {
      "cell_type": "code",
      "source": [
        "cadena = \"Hola \"\n",
        "repetida = cadena * 3\n",
        "print(repetida)"
      ],
      "metadata": {
        "colab": {
          "base_uri": "https://localhost:8080/"
        },
        "id": "FVXef4YBrrHJ",
        "outputId": "c65bc674-b07d-43f6-8bc8-7cb3231fce42"
      },
      "execution_count": 29,
      "outputs": [
        {
          "output_type": "stream",
          "name": "stdout",
          "text": [
            "Hola Hola Hola \n"
          ]
        }
      ]
    },
    {
      "cell_type": "code",
      "source": [
        "cadena = \"Python \"\n",
        "repetida = cadena * 5\n",
        "print(repetida)"
      ],
      "metadata": {
        "colab": {
          "base_uri": "https://localhost:8080/"
        },
        "id": "bi_NpKoXsK2K",
        "outputId": "f50774d8-0281-4a08-ece7-858bdcf64006"
      },
      "execution_count": 85,
      "outputs": [
        {
          "output_type": "stream",
          "name": "stdout",
          "text": [
            "Python Python Python Python Python \n"
          ]
        }
      ]
    },
    {
      "cell_type": "code",
      "source": [
        "cadena1 = \"Buenos días, \"\n",
        "cadena2 = \"mundo!\"\n",
        "repetida = cadena1 * 2 + cadena2\n",
        "print(repetida)"
      ],
      "metadata": {
        "colab": {
          "base_uri": "https://localhost:8080/"
        },
        "id": "5ZNavDQyusa_",
        "outputId": "58e0e447-5a62-4c18-fbe1-868e77f59cbd"
      },
      "execution_count": 62,
      "outputs": [
        {
          "output_type": "stream",
          "name": "stdout",
          "text": [
            "Buenos días, Buenos días, mundo!\n"
          ]
        }
      ]
    },
    {
      "cell_type": "code",
      "source": [
        "#Repetir una cadena cuatro veces y agregar un espacio entre cada repetición\n",
        "cadena = \"OpenAI\"\n",
        "repetida = (cadena + \" \") * 4 # prioriza los parentesis\n",
        "print(repetida)"
      ],
      "metadata": {
        "colab": {
          "base_uri": "https://localhost:8080/"
        },
        "id": "9rv4eIXjuuMx",
        "outputId": "86458a02-a3ca-49f2-9a71-13b440e8179e"
      },
      "execution_count": 63,
      "outputs": [
        {
          "output_type": "stream",
          "name": "stdout",
          "text": [
            "OpenAI OpenAI OpenAI OpenAI \n"
          ]
        }
      ]
    },
    {
      "cell_type": "code",
      "source": [
        "#Repetir una cadena una vez y concatenarla con otra cadena y luego repetir la combinación dos veces:\n",
        "cadena1 = \"¡Hola!\"\n",
        "cadena2 = \"¿Cómo estás?\"\n",
        "repetida = (cadena1 + cadena2) * 2\n",
        "print(repetida)"
      ],
      "metadata": {
        "colab": {
          "base_uri": "https://localhost:8080/"
        },
        "id": "ILjcDkyduwLh",
        "outputId": "61917dfb-95d3-4453-ae7d-cd9e484ee7f1"
      },
      "execution_count": 64,
      "outputs": [
        {
          "output_type": "stream",
          "name": "stdout",
          "text": [
            "¡Hola!¿Cómo estás?¡Hola!¿Cómo estás?\n"
          ]
        }
      ]
    },
    {
      "cell_type": "markdown",
      "source": [
        "**##Otras opciones para las cadenas**\n",
        "\n",
        "###Quitar espacios en blanco **texto en negrita**\n",
        "\n",
        "Observa el siguiente enunciado (cadena)\n",
        "\n",
        "enunciado = '\\t \\n me gusta escuchar música alegre \\t\\t \\n'"
      ],
      "metadata": {
        "id": "F4tP3pU6vDKc"
      }
    },
    {
      "cell_type": "code",
      "source": [
        "enunciado = '\\t \\n me gusta escuchar música alegre \\t\\t \\n'\n",
        "enunciado_sin_espacios = enunciado.strip( ) # La función strip() en Python se utiliza para eliminar los caracteres al principio y al final de una cadena. Por defecto, elimina los espacios en blanco, pero también puedes especificar otros caracteres que deseas eliminar.\n",
        "print(enunciado_sin_espacios)"
      ],
      "metadata": {
        "colab": {
          "base_uri": "https://localhost:8080/"
        },
        "id": "TyMQckssuySL",
        "outputId": "561a234b-2996-4ee5-e06b-6368ca6fc59b"
      },
      "execution_count": 92,
      "outputs": [
        {
          "output_type": "stream",
          "name": "stdout",
          "text": [
            "me gusta escuchar música alegre\n"
          ]
        }
      ]
    },
    {
      "cell_type": "code",
      "source": [
        "enunciado = '\\t \\n me gusta escuchar música alegre \\t\\t \\n'\n",
        "enunciado_sin_espacios = enunciado.replace(\" \", \"----\").strip()\n",
        "print(enunciado_sin_espacios)\n"
      ],
      "metadata": {
        "colab": {
          "base_uri": "https://localhost:8080/"
        },
        "id": "Lge0cNLJvNh4",
        "outputId": "e279288a-88d0-4e70-c15f-46ef16eadfc8"
      },
      "execution_count": 89,
      "outputs": [
        {
          "output_type": "stream",
          "name": "stdout",
          "text": [
            "----\n",
            "----me----gusta----escuchar----música----alegre----\t\t----\n"
          ]
        }
      ]
    },
    {
      "cell_type": "code",
      "source": [
        "enunciado = '\\t \\n me gusta escuchar música alegre \\t\\t \\n'\n",
        "enunciado_sin_espacios_izquierda = enunciado.lstrip()\n",
        "print(enunciado_sin_espacios_izquierda)"
      ],
      "metadata": {
        "colab": {
          "base_uri": "https://localhost:8080/"
        },
        "id": "W_-3w0kOvPdp",
        "outputId": "a1ebc1fd-2515-41f2-ac5b-a958185e1c0b"
      },
      "execution_count": 67,
      "outputs": [
        {
          "output_type": "stream",
          "name": "stdout",
          "text": [
            "me gusta escuchar música alegre \t\t \n",
            "\n"
          ]
        }
      ]
    },
    {
      "cell_type": "code",
      "source": [
        "enunciado = '\\t \\n me gusta escuchar música alegre \\t\\t \\n'\n",
        "enunciado_sin_espacios_derecha = enunciado.rstrip()\n",
        "print(enunciado_sin_espacios_derecha)\n"
      ],
      "metadata": {
        "colab": {
          "base_uri": "https://localhost:8080/"
        },
        "id": "KDLoyuTjvRkL",
        "outputId": "55ba839a-5cb3-4eb6-bef0-96ff6f7ae32a"
      },
      "execution_count": 68,
      "outputs": [
        {
          "output_type": "stream",
          "name": "stdout",
          "text": [
            "\t \n",
            " me gusta escuchar música alegre\n"
          ]
        }
      ]
    },
    {
      "cell_type": "markdown",
      "source": [
        "#### Por tu cuenta\n",
        "\n",
        "Usa los métodos en esta sección para limpiar la siguiente oración\n",
        "\n",
        "name = \"                          Clark Kent                                          \" **texto en negrita**"
      ],
      "metadata": {
        "id": "V2ekfQuGxz7K"
      }
    },
    {
      "cell_type": "code",
      "source": [
        "name = \"             Clark Kent                 \"\n",
        "name.strip()"
      ],
      "metadata": {
        "colab": {
          "base_uri": "https://localhost:8080/",
          "height": 35
        },
        "id": "McUkv-SzvTyc",
        "outputId": "c767743d-587e-4a3e-a93c-9ff86c8c3bfa"
      },
      "execution_count": 102,
      "outputs": [
        {
          "output_type": "execute_result",
          "data": {
            "text/plain": [
              "'Clark Kent'"
            ],
            "application/vnd.google.colaboratory.intrinsic+json": {
              "type": "string"
            }
          },
          "metadata": {},
          "execution_count": 102
        }
      ]
    },
    {
      "cell_type": "code",
      "source": [
        "texto=\"NULL+NUEVAPALABRA \"\n",
        "texton=texto.strip(\"NULL \")\n",
        "print(texton)"
      ],
      "metadata": {
        "colab": {
          "base_uri": "https://localhost:8080/"
        },
        "id": "YdnbNtSD29iA",
        "outputId": "74aa6d3f-9349-4771-9d7d-a80cbcfbacc7"
      },
      "execution_count": 110,
      "outputs": [
        {
          "output_type": "stream",
          "name": "stdout",
          "text": [
            "+NUEVAPALABRA\n"
          ]
        }
      ]
    },
    {
      "cell_type": "code",
      "source": [
        "print(texton.strip(\"+\"))"
      ],
      "metadata": {
        "colab": {
          "base_uri": "https://localhost:8080/"
        },
        "id": "sS23jY9D3_yc",
        "outputId": "232ad45b-a4ef-4895-b12f-b82430bb03b4"
      },
      "execution_count": 111,
      "outputs": [
        {
          "output_type": "stream",
          "name": "stdout",
          "text": [
            "NUEVAPALABRA\n"
          ]
        }
      ]
    },
    {
      "cell_type": "code",
      "source": [
        "print(texton.strip(\"NULL\"))"
      ],
      "metadata": {
        "colab": {
          "base_uri": "https://localhost:8080/"
        },
        "id": "MG55jAb24ONz",
        "outputId": "9d3cb924-3ae6-4328-f32b-c1595ad027cd"
      },
      "execution_count": 113,
      "outputs": [
        {
          "output_type": "stream",
          "name": "stdout",
          "text": [
            "+NUEVAPALABRA\n"
          ]
        }
      ]
    },
    {
      "cell_type": "markdown",
      "source": [
        "**### Mayusculas y Minusculas**"
      ],
      "metadata": {
        "id": "7I7w2OFU2gNy"
      }
    },
    {
      "cell_type": "markdown",
      "source": [
        "Usa el método capitalize para convertir esta oración a mayusculas\n",
        "\n",
        "me gusta eschuchar música alegre"
      ],
      "metadata": {
        "id": "xz-vEVF32kyU"
      }
    },
    {
      "cell_type": "code",
      "source": [
        "oracion = \"me gusta escuchar música alegre\"\n",
        "oracion_en_mayusculas = oracion.capitalize() #cada oracion se pone la mayuscula\n",
        " print(oracion_en_mayusculas)"
      ],
      "metadata": {
        "colab": {
          "base_uri": "https://localhost:8080/"
        },
        "id": "rNDv02962fM5",
        "outputId": "c3e60fdf-8891-4e49-c600-9ffaf349c417"
      },
      "execution_count": 103,
      "outputs": [
        {
          "output_type": "stream",
          "name": "stdout",
          "text": [
            "Me gusta escuchar música alegre\n"
          ]
        }
      ]
    },
    {
      "cell_type": "code",
      "source": [
        "palabra = \"python\"\n",
        "palabra_capitalizada = palabra.capitalize()\n",
        "print(palabra_capitalizada)\n"
      ],
      "metadata": {
        "colab": {
          "base_uri": "https://localhost:8080/"
        },
        "id": "3fAHeUcbxlIJ",
        "outputId": "a670cfb5-00dd-4981-fe39-c002e62331ce"
      },
      "execution_count": 138,
      "outputs": [
        {
          "output_type": "stream",
          "name": "stdout",
          "text": [
            "Python\n"
          ]
        }
      ]
    },
    {
      "cell_type": "code",
      "source": [
        "frase = \"hOLa, cÓmO EsTás?\"\n",
        "frase_capitalizada = frase.capitalize()\n",
        "print(frase_capitalizada)"
      ],
      "metadata": {
        "colab": {
          "base_uri": "https://localhost:8080/"
        },
        "id": "GePIMwrM2rH1",
        "outputId": "5138b1eb-e5e3-4f2b-e622-3448ad4b97e0"
      },
      "execution_count": 105,
      "outputs": [
        {
          "output_type": "stream",
          "name": "stdout",
          "text": [
            "Hola, cómo estás?\n"
          ]
        }
      ]
    },
    {
      "cell_type": "code",
      "source": [
        "cadena_vacia = \"\"\n",
        "cadena_capitalizada = cadena_vacia.capitalize()\n",
        "print(cadena_capitalizada)"
      ],
      "metadata": {
        "colab": {
          "base_uri": "https://localhost:8080/"
        },
        "id": "sw3VfNYF2s_P",
        "outputId": "9310db4d-cf74-4b86-e3bc-19c574cc234e"
      },
      "execution_count": 106,
      "outputs": [
        {
          "output_type": "stream",
          "name": "stdout",
          "text": [
            "\n"
          ]
        }
      ]
    },
    {
      "cell_type": "markdown",
      "source": [
        "Usa el metodo Title para ponerle mayuscula a cada letra de la oración\n",
        "\n",
        "me gusta eschuchar música alegre. bailemos"
      ],
      "metadata": {
        "id": "6Jfboikw2yJi"
      }
    },
    {
      "cell_type": "code",
      "source": [
        "oracion = \"me gusta escuchar música alegre. bailemos\"\n",
        "oracion_en_mayusculas = oracion.title()\n",
        "print(oracion_en_mayusculas)"
      ],
      "metadata": {
        "colab": {
          "base_uri": "https://localhost:8080/"
        },
        "id": "hKUoTHsa2wL5",
        "outputId": "92f7b301-3132-411f-efcf-6fc6d8715832"
      },
      "execution_count": 107,
      "outputs": [
        {
          "output_type": "stream",
          "name": "stdout",
          "text": [
            "Me Gusta Escuchar Música Alegre. Bailemos\n"
          ]
        }
      ]
    },
    {
      "cell_type": "markdown",
      "source": [
        "# ###Operadores de Comparación"
      ],
      "metadata": {
        "id": "8k0obwJK4j9d"
      }
    },
    {
      "cell_type": "markdown",
      "source": [
        "Además de dar formato a las cadenas, Python permite compararlas. Esto se realiza con los valores numéricos que tiene cada carácter. Aquí algunos ejemplos."
      ],
      "metadata": {
        "id": "Bm0eBYWm49cV"
      }
    },
    {
      "cell_type": "code",
      "source": [
        "#Comparación de cadenas utilizando el operador ==\n",
        "cadena1 = \"abc\"\n",
        "cadena2 = \"def\"\n",
        "\n",
        "if cadena1 == cadena2:\n",
        "    print(\"Las cadenas son iguales\")\n",
        "else:\n",
        "    print(\"Las cadenas son diferentes\")"
      ],
      "metadata": {
        "colab": {
          "base_uri": "https://localhost:8080/"
        },
        "id": "aIe3O2Q72008",
        "outputId": "29081cfd-49f3-4650-8eba-ac09ff7cfb5e"
      },
      "execution_count": 114,
      "outputs": [
        {
          "output_type": "stream",
          "name": "stdout",
          "text": [
            "Las cadenas son diferentes\n"
          ]
        }
      ]
    },
    {
      "cell_type": "code",
      "source": [
        "#Comparación de cadenas utilizando el operador < menor\n",
        "cadena1 = \"abc\"\n",
        "cadena2 = \"def\"\n",
        "\n",
        "if cadena1 < cadena2:\n",
        "    print(\"La cadena1 viene antes que la cadena2\")\n",
        "else:\n",
        "    print(\"La cadena2 viene antes que la cadena1\")"
      ],
      "metadata": {
        "colab": {
          "base_uri": "https://localhost:8080/"
        },
        "id": "TJ4vn-lj5A_F",
        "outputId": "63aa8f10-c112-4d2f-e70f-a72fcb65dcda"
      },
      "execution_count": 115,
      "outputs": [
        {
          "output_type": "stream",
          "name": "stdout",
          "text": [
            "La cadena1 viene antes que la cadena2\n"
          ]
        }
      ]
    },
    {
      "cell_type": "code",
      "source": [
        "#Comparación de cadenas utilizando el operador > mayor\n",
        "cadena1 = \"abc\"\n",
        "cadena2 = \"def\"\n",
        "\n",
        "if cadena1 > cadena2:\n",
        "    print(\"La cadena1 viene después que la cadena2\")\n",
        "else:\n",
        "    print(\"La cadena2 viene después que la cadena1\")\n",
        "\n",
        "print(cadena1>cadena2)"
      ],
      "metadata": {
        "colab": {
          "base_uri": "https://localhost:8080/"
        },
        "id": "oauI9-NE5Crv",
        "outputId": "72b11f98-d63c-4ddc-c291-8d272233126a"
      },
      "execution_count": 139,
      "outputs": [
        {
          "output_type": "stream",
          "name": "stdout",
          "text": [
            "La cadena2 viene después que la cadena1\n",
            "False\n"
          ]
        }
      ]
    },
    {
      "cell_type": "markdown",
      "source": [
        "**###Buscar Cadenas**"
      ],
      "metadata": {
        "id": "FV5vA0sv5HXj"
      }
    },
    {
      "cell_type": "markdown",
      "source": [
        "Para contar el número de veces que aparece un trozo de cadena (substring) en una cadena más\n",
        "grande, Python cuenta con el método count. Por ejemplo\n",
        "\n",
        "Cuenta quizas en \"quizás si quizás no quizás es una posibilidad\""
      ],
      "metadata": {
        "id": "kGsSY4Tv5Kl7"
      }
    },
    {
      "cell_type": "code",
      "source": [
        "cadena = \"quizás si quizás no quizás es una posibilidad\"\n",
        "subcadena = \"quizás\"\n",
        "\n",
        "contador = cadena.count(subcadena)\n",
        "print(f\"La subcadena '{subcadena}' aparece {contador} veces en la cadena.\")"
      ],
      "metadata": {
        "colab": {
          "base_uri": "https://localhost:8080/"
        },
        "id": "DW54iHsD5EgI",
        "outputId": "0423b81b-9b64-4c91-cc34-7c6ac20d062d"
      },
      "execution_count": 117,
      "outputs": [
        {
          "output_type": "stream",
          "name": "stdout",
          "text": [
            "La subcadena 'quizás' aparece 3 veces en la cadena.\n"
          ]
        }
      ]
    },
    {
      "cell_type": "markdown",
      "source": [
        "Si añades un segundo argumento, éste indica el índice de inicio de la búsqueda (recuerda que los\n",
        "índices inician en 0)."
      ],
      "metadata": {
        "id": "PImVmqsK5Q8m"
      }
    },
    {
      "cell_type": "code",
      "source": [
        "cadena = \"quizás si quizás no quizás es una posibilidad\"\n",
        "subcadena = \"quizás\"\n",
        "\n",
        "contador = cadena.count(subcadena, 10)  # Comienza la búsqueda desde el índice 10\n",
        "print(f\"La subcadena '{subcadena}' aparece {contador} veces en la cadena a partir del índice 10.\")"
      ],
      "metadata": {
        "colab": {
          "base_uri": "https://localhost:8080/"
        },
        "id": "MJq_SakJ5NyN",
        "outputId": "ebf2817e-a421-4a55-d4d4-4bd5638d68ab"
      },
      "execution_count": 118,
      "outputs": [
        {
          "output_type": "stream",
          "name": "stdout",
          "text": [
            "La subcadena 'quizás' aparece 2 veces en la cadena a partir del índice 10.\n"
          ]
        }
      ]
    },
    {
      "cell_type": "markdown",
      "source": [
        "El método index busca una subcadena dentro de una cadena, e indica el primer índice en donde\n",
        "aparece."
      ],
      "metadata": {
        "id": "xIXA-rVw5WRI"
      }
    },
    {
      "cell_type": "code",
      "source": [
        "cadena = \"esto es una cadena de ejemplo\"\n",
        "subcadena = \"cadena\"\n",
        "\n",
        "indice = cadena.index(subcadena)\n",
        "print(f\"La subcadena '{subcadena}' aparece por primera vez en el índice {indice}.\")"
      ],
      "metadata": {
        "colab": {
          "base_uri": "https://localhost:8080/"
        },
        "id": "CuqLlp635TC2",
        "outputId": "ca6c7af9-8e99-4632-c8b8-90468e77a884"
      },
      "execution_count": 119,
      "outputs": [
        {
          "output_type": "stream",
          "name": "stdout",
          "text": [
            "La subcadena 'cadena' aparece por primera vez en el índice 12.\n"
          ]
        }
      ]
    },
    {
      "cell_type": "markdown",
      "source": [
        "El método *rindex* realiza la misma tarea que index, pero inicia la búsqueda desde la parte final\n",
        "de la cadena. **texto en negrita**"
      ],
      "metadata": {
        "id": "klQd2BXz5eyd"
      }
    },
    {
      "cell_type": "code",
      "source": [
        "cadena = \"esto es una cadena de ejemplo con una palabra repetida en el final palabra\"\n",
        "subcadena = \"palabra\"\n",
        "\n",
        "indice = cadena.rindex(subcadena)\n",
        "print(f\"La subcadena '{subcadena}' aparece por última vez en el índice {indice}.\")"
      ],
      "metadata": {
        "colab": {
          "base_uri": "https://localhost:8080/"
        },
        "id": "MV2ALRJM5Y_5",
        "outputId": "b9674401-cf2d-4010-e2b2-92a703e1e008"
      },
      "execution_count": 143,
      "outputs": [
        {
          "output_type": "stream",
          "name": "stdout",
          "text": [
            "La subcadena 'palabra' aparece por última vez en el índice 67.\n"
          ]
        }
      ]
    },
    {
      "cell_type": "markdown",
      "source": [
        "Si solo necesitas conocer si en la cadena se encuentra una subcadena, es posible utilizar los operadores in o not in"
      ],
      "metadata": {
        "id": "TDrwgXaU5kCx"
      }
    },
    {
      "cell_type": "code",
      "source": [
        "cadena = \"esto es una cadena de ejemplo\"\n",
        "subcadena1 = \"cadena\"\n",
        "subcadena2 = \"python\"\n",
        "\n",
        "if subcadena1 in cadena:\n",
        "    print(f\"La subcadena '{subcadena1}' está presente en la cadena.\")\n",
        "else:\n",
        "    print(f\"La subcadena '{subcadena1}' no está presente en la cadena.\")\n",
        "\n",
        "if subcadena2 not in cadena:\n",
        "    print(f\"La subcadena '{subcadena2}' no está presente en la cadena.\")\n",
        "else:\n",
        "    print(f\"La subcadena '{subcadena2}' está presente en la cadena.\")"
      ],
      "metadata": {
        "colab": {
          "base_uri": "https://localhost:8080/"
        },
        "id": "7CsHu4F15hP-",
        "outputId": "9fc62c0f-a6f4-44bf-9ebb-7ed647ef7147"
      },
      "execution_count": 121,
      "outputs": [
        {
          "output_type": "stream",
          "name": "stdout",
          "text": [
            "La subcadena 'cadena' está presente en la cadena.\n",
            "La subcadena 'python' no está presente en la cadena.\n"
          ]
        }
      ]
    },
    {
      "cell_type": "code",
      "source": [],
      "metadata": {
        "id": "A_8NGT205mda"
      },
      "execution_count": null,
      "outputs": []
    },
    {
      "cell_type": "markdown",
      "source": [
        "**Los métodos startswith y endswith regresan True si la cadena inicia o termina**"
      ],
      "metadata": {
        "id": "9nVLMdSn5o-a"
      }
    },
    {
      "cell_type": "code",
      "source": [
        "cadena = \"Python es un lenguaje de programación poderoso\"\n",
        "subcadena1 = \"lenguaje\"\n",
        "subcadena2 = \"JavaScript\"\n",
        "\n",
        "if subcadena1 in cadena:\n",
        "    print(f\"La subcadena '{subcadena1}' está presente en la cadena.\")\n",
        "else:\n",
        "    print(f\"La subcadena '{subcadena1}' no está presente en la cadena.\")\n",
        "\n",
        "if subcadena2 not in cadena:\n",
        "    print(f\"La subcadena '{subcadena2}' no está presente en la cadena.\")\n",
        "else:\n",
        "    print(f\"La subcadena '{subcadena2}' está presente en la cadena.\")"
      ],
      "metadata": {
        "colab": {
          "base_uri": "https://localhost:8080/"
        },
        "id": "tgumhSsK5qtp",
        "outputId": "fd76eeef-4e9d-4c18-93ed-b72333e33801"
      },
      "execution_count": 122,
      "outputs": [
        {
          "output_type": "stream",
          "name": "stdout",
          "text": [
            "La subcadena 'lenguaje' está presente en la cadena.\n",
            "La subcadena 'JavaScript' no está presente en la cadena.\n"
          ]
        }
      ]
    },
    {
      "cell_type": "markdown",
      "source": [
        "#### Por tu cuenta\n",
        "\n",
        "Crea un bucle for que ubica y muestra cada palabra que comienza con \"d\" en \"Por desenredar el enredo aque ayer enrede, hoy enredo el desenredo que desenredé ayer\" **texto en negrita**"
      ],
      "metadata": {
        "id": "Hp516eZu5xDv"
      }
    },
    {
      "cell_type": "code",
      "source": [
        "frase_1 = \"Por desenredar el enredo aque ayer enrede, hoy enredo el desenredo que desenredé ayer\"\n",
        "frase_2 = frase_1.split()\n",
        "for palabra in frase_2:\n",
        "  if palabra.startswith(\"d\"):\n",
        "    print(palabra)"
      ],
      "metadata": {
        "colab": {
          "base_uri": "https://localhost:8080/"
        },
        "id": "JpEC-PMf5su9",
        "outputId": "ceeb20f3-918b-43f0-bd23-7ca2ac39d22f"
      },
      "execution_count": 126,
      "outputs": [
        {
          "output_type": "stream",
          "name": "stdout",
          "text": [
            "desenredar\n",
            "desenredo\n",
            "desenredé\n"
          ]
        }
      ]
    },
    {
      "cell_type": "markdown",
      "source": [
        "**###- Reemplazar**"
      ],
      "metadata": {
        "id": "HH18mqnb6Kag"
      }
    },
    {
      "cell_type": "markdown",
      "source": [
        "Para reemplazar cadenas se usa el metoodo replace"
      ],
      "metadata": {
        "id": "fe2sFn286LsM"
      }
    },
    {
      "cell_type": "code",
      "source": [
        "cadena = \"Python es un lenguaje de programación poderoso\"\n",
        "subcadena_original = \"Python\"\n",
        "nueva_subcadena = \"JavaScript\"\n",
        "\n",
        "nueva_cadena = cadena.replace(subcadena_original, nueva_subcadena)\n",
        "print(\"Cadena original:\", cadena)\n",
        "print(\"Cadena después del reemplazo:\", nueva_cadena)"
      ],
      "metadata": {
        "colab": {
          "base_uri": "https://localhost:8080/"
        },
        "id": "XgM0tKD96PUm",
        "outputId": "f3c81ad0-b933-4053-c82e-9461469e22a4"
      },
      "execution_count": 127,
      "outputs": [
        {
          "output_type": "stream",
          "name": "stdout",
          "text": [
            "Cadena original: Python es un lenguaje de programación poderoso\n",
            "Cadena después del reemplazo: JavaScript es un lenguaje de programación poderoso\n"
          ]
        }
      ]
    },
    {
      "cell_type": "markdown",
      "source": [
        "**### Separar y Unir Cadenas**"
      ],
      "metadata": {
        "id": "tF2DIJdV6UPx"
      }
    },
    {
      "cell_type": "markdown",
      "source": [
        "Para tokenizar una cadena puedes utilizar un delimitador personalizado como una coma o un espacio en blanco.\n",
        "\n",
        "letras='A,b,e,c,e,d,a,r,i,o'\n"
      ],
      "metadata": {
        "id": "wc26SUKP6XHO"
      }
    },
    {
      "cell_type": "code",
      "source": [
        "letras = 'A,b,e,c,e,d,a,r,i,o'\n",
        "tokens = letras.split(',')\n",
        "print(tokens)"
      ],
      "metadata": {
        "colab": {
          "base_uri": "https://localhost:8080/"
        },
        "id": "SW5V4vp054TT",
        "outputId": "b7be27cb-5c5e-4c18-c9e6-4279ea13faca"
      },
      "execution_count": 128,
      "outputs": [
        {
          "output_type": "stream",
          "name": "stdout",
          "text": [
            "['A', 'b', 'e', 'c', 'e', 'd', 'a', 'r', 'i', 'o']\n"
          ]
        }
      ]
    },
    {
      "cell_type": "code",
      "source": [
        "letras = 'A b e c e d a r i o'\n",
        "tokens = letras.split(' ')\n",
        "print(tokens)"
      ],
      "metadata": {
        "colab": {
          "base_uri": "https://localhost:8080/"
        },
        "id": "No71nPMG6Z4d",
        "outputId": "e0934a2d-d9bb-49b7-a37b-ceacedc84792"
      },
      "execution_count": 129,
      "outputs": [
        {
          "output_type": "stream",
          "name": "stdout",
          "text": [
            "['A', 'b', 'e', 'c', 'e', 'd', 'a', 'r', 'i', 'o']\n"
          ]
        }
      ]
    },
    {
      "cell_type": "markdown",
      "source": [
        "Si escribes un entero en la segunda parte del argumento, este, especifica el número máximo de\n",
        "divisiones de la cadena"
      ],
      "metadata": {
        "id": "cwzxVJmz6eP_"
      }
    },
    {
      "cell_type": "code",
      "source": [
        "letras = 'A,b,e,c,e,d,a,r,i,o'\n",
        "tokens = letras.split(',', 3)  # Dividir la cadena en un máximo de 3 partes\n",
        "print(tokens)"
      ],
      "metadata": {
        "colab": {
          "base_uri": "https://localhost:8080/"
        },
        "id": "TqmTFIVF6bjP",
        "outputId": "d8a25f05-a9c3-44a1-ecd5-f2cb1c23b648"
      },
      "execution_count": 130,
      "outputs": [
        {
          "output_type": "stream",
          "name": "stdout",
          "text": [
            "['A', 'b', 'e', 'c,e,d,a,r,i,o']\n"
          ]
        }
      ]
    },
    {
      "cell_type": "markdown",
      "source": [
        "**El siguiente snippet une los elementos de una comprensión de lista.**"
      ],
      "metadata": {
        "id": "NYoTcSlQ6lKr"
      }
    },
    {
      "cell_type": "markdown",
      "source": [
        "En este ejemplo, la comprensión de lista numeros genera una lista de números del 1 al 5, pero como cadenas. Luego, utilizamos el método join() para unir estos elementos con un guion como separador, creando así una sola cadena que contiene los números unidos por guiones."
      ],
      "metadata": {
        "id": "VVW-pE4M6n2c"
      }
    },
    {
      "cell_type": "code",
      "source": [
        "# Comprensión de lista para obtener una lista de números como cadenas\n",
        "numeros = [str(x) for x in range(1, 6)]\n",
        "\n",
        "# Unir los elementos de la lista con un guion como separador\n",
        "cadena_unida = '-'.join(numeros)\n",
        "print(cadena_unida)"
      ],
      "metadata": {
        "colab": {
          "base_uri": "https://localhost:8080/"
        },
        "id": "6VjCjEl46g_R",
        "outputId": "7351737b-1196-44b9-8404-cc23a4e38231"
      },
      "execution_count": 131,
      "outputs": [
        {
          "output_type": "stream",
          "name": "stdout",
          "text": [
            "1-2-3-4-5\n"
          ]
        }
      ]
    },
    {
      "cell_type": "markdown",
      "source": [
        "**###Otros métodos de búsqueda: accesar matches**"
      ],
      "metadata": {
        "id": "Oa4JkNrx6w8p"
      }
    },
    {
      "cell_type": "markdown",
      "source": [
        "Python tiene otras funciones de búsqueda. La función search busca en una cadena la primera"
      ],
      "metadata": {
        "id": "yA1ovsX16z46"
      }
    },
    {
      "cell_type": "code",
      "source": [
        "import re\n",
        "\n",
        "# Definimos la cadena en la que queremos buscar\n",
        "cadena = \"La casa está en la calle principal.\"\n",
        "\n",
        "# Definimos el patrón que queremos buscar\n",
        "patron = \"casa\"\n",
        "\n",
        "# Utilizamos la función search() para buscar la primera coincidencia del patrón en la cadena\n",
        "resultado = re.search(patron, cadena)\n",
        "\n",
        "# Verificamos si se encontró una coincidencia\n",
        "if resultado:\n",
        "    print(\"Se encontró una coincidencia en la posición:\", resultado.start())\n",
        "else:\n",
        "    print(\"No se encontró ninguna coincidencia.\")"
      ],
      "metadata": {
        "colab": {
          "base_uri": "https://localhost:8080/"
        },
        "id": "i4W8u64Z6qBN",
        "outputId": "967a8f1b-62d4-4da8-e5fc-077e36541f17"
      },
      "execution_count": 132,
      "outputs": [
        {
          "output_type": "stream",
          "name": "stdout",
          "text": [
            "Se encontró una coincidencia en la posición: 3\n"
          ]
        }
      ]
    },
    {
      "cell_type": "markdown",
      "source": [
        "En este ejemplo, la función busca la subcadena 'texto' en la cadena 'Esto es solo texto\n",
        "de prueba'. **texto en negrita**"
      ],
      "metadata": {
        "id": "keJDTx_s67__"
      }
    },
    {
      "cell_type": "code",
      "source": [
        "cadena = 'Esto es solo texto de prueba'\n",
        "subcadena = 'texto'\n",
        "\n",
        "# Usamos la función find() para buscar la subcadena en la cadena\n",
        "posicion = cadena.find(subcadena)\n",
        "\n",
        "if posicion != -1:\n",
        "    print(f\"La subcadena '{subcadena}' se encuentra en la posición {posicion} de la cadena.\")\n",
        "else:\n",
        "    print(f\"La subcadena '{subcadena}' no se encuentra en la cadena.\")"
      ],
      "metadata": {
        "colab": {
          "base_uri": "https://localhost:8080/"
        },
        "id": "_LxMpkVY617D",
        "outputId": "1c8db73e-22f0-40ae-d370-c1df3f1d08a6"
      },
      "execution_count": 133,
      "outputs": [
        {
          "output_type": "stream",
          "name": "stdout",
          "text": [
            "La subcadena 'texto' se encuentra en la posición 13 de la cadena.\n"
          ]
        }
      ]
    },
    {
      "cell_type": "markdown",
      "source": [
        "El meta caracter ^ al principio de una cadena regular, es un ancla que indica a Python buscar la\n",
        "expresión que coincide solo con el inicio de la cadena."
      ],
      "metadata": {
        "id": "K6OGroJY7CEi"
      }
    },
    {
      "cell_type": "code",
      "source": [
        "import re\n",
        "\n",
        "# Definimos una lista de palabras\n",
        "palabras = [\"manzana\", \"banana\", \"mandarina\", \"anana\", \"naranja\"]\n",
        "\n",
        "# Definimos un patrón para buscar palabras que comienzan con \"man\"\n",
        "patron = \"^man\"\n",
        "\n",
        "# Utilizamos la función findall() para encontrar todas las coincidencias que cumplen el patrón\n",
        "coincidencias = [palabra for palabra in palabras if re.findall(patron, palabra)]\n",
        "\n",
        "# Imprimimos las coincidencias encontradas\n",
        "print(\"Palabras que comienzan con 'man':\", coincidencias)"
      ],
      "metadata": {
        "colab": {
          "base_uri": "https://localhost:8080/"
        },
        "id": "Vx3Ey_Fw6-3h",
        "outputId": "46c79148-f4aa-4f6d-8280-5ab0a1f97607"
      },
      "execution_count": 134,
      "outputs": [
        {
          "output_type": "stream",
          "name": "stdout",
          "text": [
            "Palabras que comienzan con 'man': ['manzana', 'mandarina']\n"
          ]
        }
      ]
    },
    {
      "cell_type": "markdown",
      "source": [
        "#### Por tu cuenta\n",
        "\n",
        "Suponte que tienes la cadena\n",
        "\n",
        "\"14 + 8\"\n",
        "\n",
        "Usa una expresión regular para romper la cadena en 3 grupos representando los 2 operandos y el operador, luego muestra los grupos"
      ],
      "metadata": {
        "id": "PZ8dCsi87Gnc"
      }
    },
    {
      "cell_type": "code",
      "source": [
        "cadena_nueva = \"14 + 8\"\n"
      ],
      "metadata": {
        "id": "US6dYMFc7EML"
      },
      "execution_count": 137,
      "outputs": []
    },
    {
      "cell_type": "code",
      "source": [],
      "metadata": {
        "id": "hJCmCtki7V6c"
      },
      "execution_count": null,
      "outputs": []
    }
  ]
}