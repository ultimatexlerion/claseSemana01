{
  "nbformat": 4,
  "nbformat_minor": 0,
  "metadata": {
    "colab": {
      "provenance": [],
      "authorship_tag": "ABX9TyPFVpcJqKxf0qV0zpzKDOV9",
      "include_colab_link": true
    },
    "kernelspec": {
      "name": "python3",
      "display_name": "Python 3"
    },
    "language_info": {
      "name": "python"
    }
  },
  "cells": [
    {
      "cell_type": "markdown",
      "metadata": {
        "id": "view-in-github",
        "colab_type": "text"
      },
      "source": [
        "<a href=\"https://colab.research.google.com/github/ultimatexlerion/claseSemana01/blob/main/Cadenas.ipynb\" target=\"_parent\"><img src=\"https://colab.research.google.com/assets/colab-badge.svg\" alt=\"Open In Colab\"/></a>"
      ]
    },
    {
      "cell_type": "markdown",
      "source": [
        "**Cadenas**"
      ],
      "metadata": {
        "id": "t0HTQMNJlH8k"
      }
    },
    {
      "cell_type": "markdown",
      "source": [
        "Dar formato a las Cadenas"
      ],
      "metadata": {
        "id": "k6RpZT_ZosjD"
      }
    },
    {
      "cell_type": "code",
      "execution_count": 2,
      "metadata": {
        "id": "pK9MZInWlBQg"
      },
      "outputs": [],
      "source": [
        "nombre = \"Mike\"\n",
        "edad = 39"
      ]
    },
    {
      "cell_type": "markdown",
      "source": [
        "Alinear a la izq con 10 espacion al inicio y 5 al final"
      ],
      "metadata": {
        "id": "QCsObWoulG_V"
      }
    },
    {
      "cell_type": "code",
      "source": [
        "cadenal1 = f'{nombre:<10}tiene {edad} años'\n",
        "cadenal1"
      ],
      "metadata": {
        "colab": {
          "base_uri": "https://localhost:8080/",
          "height": 35
        },
        "id": "1glNY2j0llki",
        "outputId": "8117ec16-65bb-45dd-a959-73a0e779a194"
      },
      "execution_count": 3,
      "outputs": [
        {
          "output_type": "execute_result",
          "data": {
            "text/plain": [
              "'Mike      tiene 39 años'"
            ],
            "application/vnd.google.colaboratory.intrinsic+json": {
              "type": "string"
            }
          },
          "metadata": {},
          "execution_count": 3
        }
      ]
    },
    {
      "cell_type": "markdown",
      "source": [
        "Alinear a la izq con 5 espacio al inicio y 10 al final"
      ],
      "metadata": {
        "id": "fx3fBPnimJaH"
      }
    },
    {
      "cell_type": "code",
      "source": [
        "cadena2 = f'{nombre:>5} tiene {edad} años'\n",
        "cadena2"
      ],
      "metadata": {
        "colab": {
          "base_uri": "https://localhost:8080/",
          "height": 35
        },
        "id": "vEGlFsWClv74",
        "outputId": "1cbabe68-3cb7-4dbe-8062-24282139fae1"
      },
      "execution_count": 7,
      "outputs": [
        {
          "output_type": "execute_result",
          "data": {
            "text/plain": [
              "' Mike tiene 39 años'"
            ],
            "application/vnd.google.colaboratory.intrinsic+json": {
              "type": "string"
            }
          },
          "metadata": {},
          "execution_count": 7
        }
      ]
    },
    {
      "cell_type": "markdown",
      "source": [
        "Alinear a la izq con 3 espacio al inicio y  al final"
      ],
      "metadata": {
        "id": "o_HmDSuvmO57"
      }
    },
    {
      "cell_type": "code",
      "source": [
        "cadena3 = f'{nombre:^50} tiene {edad} años'\n",
        "cadena3"
      ],
      "metadata": {
        "colab": {
          "base_uri": "https://localhost:8080/",
          "height": 35
        },
        "id": "gkZ7d4Eml66-",
        "outputId": "24c88812-ce67-402f-b4a0-2f277c9c68cb"
      },
      "execution_count": 8,
      "outputs": [
        {
          "output_type": "execute_result",
          "data": {
            "text/plain": [
              "'                       Mike                        tiene 39 años'"
            ],
            "application/vnd.google.colaboratory.intrinsic+json": {
              "type": "string"
            }
          },
          "metadata": {},
          "execution_count": 8
        }
      ]
    },
    {
      "cell_type": "code",
      "source": [
        "pi= 3.14159265359"
      ],
      "metadata": {
        "id": "3n7Fhp_Jl-Rg"
      },
      "execution_count": 9,
      "outputs": []
    },
    {
      "cell_type": "markdown",
      "source": [
        "**Cadena Derecha**"
      ],
      "metadata": {
        "id": "RveZ6NO4nFWu"
      }
    },
    {
      "cell_type": "code",
      "source": [
        "cadena_derecha = f'{pi:>10.2f}'\n",
        "cadena_derecha"
      ],
      "metadata": {
        "colab": {
          "base_uri": "https://localhost:8080/",
          "height": 35
        },
        "id": "L7f30umomt2g",
        "outputId": "2ea91b8d-6c7b-4975-951f-b07fc3088e7a"
      },
      "execution_count": 11,
      "outputs": [
        {
          "output_type": "execute_result",
          "data": {
            "text/plain": [
              "'      3.14'"
            ],
            "application/vnd.google.colaboratory.intrinsic+json": {
              "type": "string"
            }
          },
          "metadata": {},
          "execution_count": 11
        }
      ]
    },
    {
      "cell_type": "markdown",
      "source": [
        "**Cadena Izquierda**"
      ],
      "metadata": {
        "id": "1nLaR_RtnJMz"
      }
    },
    {
      "cell_type": "code",
      "source": [
        "cadena_izquierda = f'{pi:^10.2f} estos son los numero de pi'\n",
        "cadena_izquierda"
      ],
      "metadata": {
        "colab": {
          "base_uri": "https://localhost:8080/",
          "height": 35
        },
        "id": "bHEqDG2mmyRU",
        "outputId": "2b1ba320-6344-428e-c78b-a9d38a4fb567"
      },
      "execution_count": 14,
      "outputs": [
        {
          "output_type": "execute_result",
          "data": {
            "text/plain": [
              "'   3.14    estos son los numero de pi'"
            ],
            "application/vnd.google.colaboratory.intrinsic+json": {
              "type": "string"
            }
          },
          "metadata": {},
          "execution_count": 14
        }
      ]
    },
    {
      "cell_type": "markdown",
      "source": [
        "**Centrar Valores**"
      ],
      "metadata": {
        "id": "_IXxgWTAnS2l"
      }
    },
    {
      "cell_type": "code",
      "source": [
        "nombre = 'Mike'\n",
        "edad = 39"
      ],
      "metadata": {
        "id": "4KuAnOcfnQC8"
      },
      "execution_count": null,
      "outputs": []
    },
    {
      "cell_type": "code",
      "source": [
        "cadena_centro = f'{nombre:^10} | {edad}'\n",
        "cadena_centro"
      ],
      "metadata": {
        "colab": {
          "base_uri": "https://localhost:8080/",
          "height": 35
        },
        "id": "_stsbJ1fnWxA",
        "outputId": "86620b90-9112-469e-e085-7e058b6e7555"
      },
      "execution_count": 16,
      "outputs": [
        {
          "output_type": "execute_result",
          "data": {
            "text/plain": [
              "'   Mike    | 39'"
            ],
            "application/vnd.google.colaboratory.intrinsic+json": {
              "type": "string"
            }
          },
          "metadata": {},
          "execution_count": 16
        }
      ]
    },
    {
      "cell_type": "markdown",
      "source": [
        "Mostrar el nombre en 3 filas diferentes alineados a la derecha, centro e izquierda en un campo de 10 caracteres- encierra cada file de resultado brackets"
      ],
      "metadata": {
        "id": "C-qJDnzunlpf"
      }
    },
    {
      "cell_type": "code",
      "source": [
        "cadena_izquierda = f'[{nombre:<10}] es Alto'\n",
        "cadena_centro = f'[{nombre:^10}] es Tranquilo'\n",
        "cadena_derecha = f'[{nombre:>10}] es Activo'\n",
        "cadena_izquierda, cadena_centro, cadena_derecha"
      ],
      "metadata": {
        "colab": {
          "base_uri": "https://localhost:8080/"
        },
        "id": "PaxQI2-gm57n",
        "outputId": "95ff8dea-91cc-43c8-8b0b-f614d98a1d03"
      },
      "execution_count": 22,
      "outputs": [
        {
          "output_type": "execute_result",
          "data": {
            "text/plain": [
              "('[Mike      ] es Alto', '[   Mike   ] es Tranquilo', '[      Mike] es Activo')"
            ]
          },
          "metadata": {},
          "execution_count": 22
        }
      ]
    },
    {
      "cell_type": "markdown",
      "source": [
        "**###Formato Númerico**"
      ],
      "metadata": {
        "id": "Fqbq95g_qjws"
      }
    },
    {
      "cell_type": "markdown",
      "source": [
        "En el caso particular de cadenas de números, si requieres mostrar el signo. Puedes agregarlo en\n",
        "el f-string"
      ],
      "metadata": {
        "id": "dBd1qdUXqpmm"
      }
    },
    {
      "cell_type": "code",
      "source": [
        "numero = -15\n",
        "\n",
        "# Mostrar el signo junto al número\n",
        "cadena_con_signo = f'Número con signo: {numero:+}'\n",
        "print(cadena_con_signo)"
      ],
      "metadata": {
        "colab": {
          "base_uri": "https://localhost:8080/"
        },
        "id": "JdG0dJP_n58x",
        "outputId": "79f5151f-bffd-42c4-9e65-7cdc6720dc68"
      },
      "execution_count": 23,
      "outputs": [
        {
          "output_type": "stream",
          "name": "stdout",
          "text": [
            "Número con signo: -15\n"
          ]
        }
      ]
    },
    {
      "cell_type": "code",
      "source": [
        "numero_positivo = 20\n",
        "\n",
        "# Mostrar el signo junto al número positivo\n",
        "cadena_positiva = f'Número positivo con signo: {numero_positivo:+}'\n",
        "print(cadena_positiva)"
      ],
      "metadata": {
        "colab": {
          "base_uri": "https://localhost:8080/"
        },
        "id": "X9EOQQwzqxcT",
        "outputId": "d8b3ea03-037b-4d27-a06e-584f87d45ed3"
      },
      "execution_count": 24,
      "outputs": [
        {
          "output_type": "stream",
          "name": "stdout",
          "text": [
            "Número positivo con signo: +20\n"
          ]
        }
      ]
    },
    {
      "cell_type": "code",
      "source": [
        "numero_negativo = -8\n",
        "\n",
        "# Mostrar el signo junto al número negativo\n",
        "cadena_negativa = f'Número negativo con signo: {numero_negativo:+}'\n",
        "print(cadena_negativa)"
      ],
      "metadata": {
        "colab": {
          "base_uri": "https://localhost:8080/"
        },
        "id": "r9oFtCe1q-bR",
        "outputId": "8e9eadcb-a028-460b-f82c-532e6479d87a"
      },
      "execution_count": 25,
      "outputs": [
        {
          "output_type": "stream",
          "name": "stdout",
          "text": [
            "Número negativo con signo: -8\n"
          ]
        }
      ]
    },
    {
      "cell_type": "markdown",
      "source": [
        "**Para agregar ceros en los espacios en blanco.**"
      ],
      "metadata": {
        "id": "36q4SCTerMLq"
      }
    },
    {
      "cell_type": "code",
      "source": [
        "numero = 123\n",
        "\n",
        "# Agregar ceros en los espacios en blanco\n",
        "cadena_con_ceros = f'Número con ceros: {numero:06}'\n",
        "print(cadena_con_ceros)"
      ],
      "metadata": {
        "colab": {
          "base_uri": "https://localhost:8080/"
        },
        "id": "2E6JrSPnrGhO",
        "outputId": "96e05fd2-9d97-418b-86db-4f0f3b02f659"
      },
      "execution_count": 26,
      "outputs": [
        {
          "output_type": "stream",
          "name": "stdout",
          "text": [
            "Número con ceros: 000123\n"
          ]
        }
      ]
    },
    {
      "cell_type": "markdown",
      "source": [
        "**Regularmente a los números positivos no se les agrega el signo +. Pero, si requieres dejar el espacio en blanco para este tipo de números, utiliza un código como el siguiente**"
      ],
      "metadata": {
        "id": "OG-me_QZrVWe"
      }
    },
    {
      "cell_type": "code",
      "source": [
        "numero_positivo = 42\n",
        "\n",
        "# Dejar espacio en blanco para números positivos\n",
        "cadena_positiva = f'Número positivo: {numero_positivo: }'\n",
        "print(cadena_positiva)"
      ],
      "metadata": {
        "colab": {
          "base_uri": "https://localhost:8080/"
        },
        "id": "LqLjdg2VrPRi",
        "outputId": "4819602e-191b-435c-aa25-21347f3804fc"
      },
      "execution_count": 27,
      "outputs": [
        {
          "output_type": "stream",
          "name": "stdout",
          "text": [
            "Número positivo:  42\n"
          ]
        }
      ]
    },
    {
      "cell_type": "markdown",
      "source": [
        "#### Por tu cuenta\n",
        "\n",
        "Imprime los valores 11483.528 y -4581.4413 cada uno precedido por su signo, en campos de 10 caracteres con separadores de miles, y su punto decimal alineado a 2 puntos de precisión. **texto en negrita**"
      ],
      "metadata": {
        "id": "lk34KTpLrgL8"
      }
    },
    {
      "cell_type": "code",
      "source": [
        "uno=11483.528\n",
        "dos=-4581.4413\n",
        "print(f'{uno:+10,.2f}')\n",
        "print(f'{dos:+10,.2f}')"
      ],
      "metadata": {
        "colab": {
          "base_uri": "https://localhost:8080/"
        },
        "id": "kBLVFt6grcmR",
        "outputId": "8fcdf867-4a73-47ed-f823-e03548193597"
      },
      "execution_count": 28,
      "outputs": [
        {
          "output_type": "stream",
          "name": "stdout",
          "text": [
            "+11,483.53\n",
            " -4,581.44\n"
          ]
        }
      ]
    },
    {
      "cell_type": "code",
      "source": [],
      "metadata": {
        "id": "FVXef4YBrrHJ"
      },
      "execution_count": null,
      "outputs": []
    }
  ]
}