{
  "nbformat": 4,
  "nbformat_minor": 0,
  "metadata": {
    "colab": {
      "provenance": [],
      "authorship_tag": "ABX9TyPr+UP7fiIyjenPKe7xLDIU",
      "include_colab_link": true
    },
    "kernelspec": {
      "name": "python3",
      "display_name": "Python 3"
    },
    "language_info": {
      "name": "python"
    }
  },
  "cells": [
    {
      "cell_type": "markdown",
      "metadata": {
        "id": "view-in-github",
        "colab_type": "text"
      },
      "source": [
        "<a href=\"https://colab.research.google.com/github/ultimatexlerion/claseSemana01/blob/main/Sentencias_de_Control.ipynb\" target=\"_parent\"><img src=\"https://colab.research.google.com/assets/colab-badge.svg\" alt=\"Open In Colab\"/></a>"
      ]
    },
    {
      "cell_type": "markdown",
      "source": [
        "Secuencias que busca una salida al problema"
      ],
      "metadata": {
        "id": "Gqpy_QlmED4q"
      }
    },
    {
      "cell_type": "code",
      "execution_count": 10,
      "metadata": {
        "colab": {
          "base_uri": "https://localhost:8080/"
        },
        "id": "0OVjFtPdD64f",
        "outputId": "e46e6db6-b2d3-44eb-be63-7cdc6033c480"
      },
      "outputs": [
        {
          "output_type": "stream",
          "name": "stdout",
          "text": [
            "Capital inicial: 5000\n",
            "el capital final es de: 317499.99999999994\n"
          ]
        }
      ],
      "source": [
        "capital_inicial=float(input(\"Capital inicial: \"))\n",
        "tasa_anual=0.15 #15%\n",
        "\n",
        "#tasa Mensual\n",
        "tasa_mensual=tasa_anual/12\n",
        "interes_mensual=capital_inicial*tasa_mensual\n",
        "\n",
        "capital_final=capital_inicial*(1+interes_mensual)\n",
        "print(\"el capital final es de:\",capital_final)"
      ]
    },
    {
      "cell_type": "code",
      "source": [],
      "metadata": {
        "id": "_CoGz0Y_G9uM"
      },
      "execution_count": null,
      "outputs": []
    },
    {
      "cell_type": "code",
      "source": [],
      "metadata": {
        "id": "sz2xR19yEiLX"
      },
      "execution_count": null,
      "outputs": []
    }
  ]
}